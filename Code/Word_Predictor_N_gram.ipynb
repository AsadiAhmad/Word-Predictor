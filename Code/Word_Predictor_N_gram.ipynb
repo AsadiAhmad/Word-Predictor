{
  "nbformat": 4,
  "nbformat_minor": 0,
  "metadata": {
    "colab": {
      "provenance": [],
      "authorship_tag": "ABX9TyPgtGJ7QthPihsVVETm88rj",
      "include_colab_link": true
    },
    "kernelspec": {
      "name": "python3",
      "display_name": "Python 3"
    },
    "language_info": {
      "name": "python"
    }
  },
  "cells": [
    {
      "cell_type": "markdown",
      "metadata": {
        "id": "view-in-github",
        "colab_type": "text"
      },
      "source": [
        "<a href=\"https://colab.research.google.com/github/AsadiAhmad/Word-Predictor/blob/main/Code/Word_Predictor_N_gram.ipynb\" target=\"_parent\"><img src=\"https://colab.research.google.com/assets/colab-badge.svg\" alt=\"Open In Colab\"/></a>"
      ]
    },
    {
      "cell_type": "markdown",
      "source": [
        "# Step 1: Import Libraries"
      ],
      "metadata": {
        "id": "8lExBPas26Io"
      }
    },
    {
      "cell_type": "code",
      "execution_count": 52,
      "metadata": {
        "id": "g67z2L4dzGxY"
      },
      "outputs": [],
      "source": [
        "import requests\n",
        "\n",
        "import polars as pl\n",
        "\n",
        "from collections import Counter"
      ]
    },
    {
      "cell_type": "markdown",
      "source": [
        "# Step 2: Get Corpus"
      ],
      "metadata": {
        "id": "IGItXQ7f28lw"
      }
    },
    {
      "cell_type": "code",
      "source": [
        "corpus_url = \"https://raw.githubusercontent.com/AsadiAhmad/Word-Predictor/main/Corpus/Tarzan.txt\"\n",
        "\n",
        "response = requests.get(corpus_url)\n",
        "\n",
        "if response.status_code == 200:\n",
        "    raw_text = response.text\n",
        "    print(\"Text fetched successfully!\")\n",
        "else:\n",
        "    print(f\"Failed to fetch the text. Status code: {response.status_code}\")"
      ],
      "metadata": {
        "colab": {
          "base_uri": "https://localhost:8080/"
        },
        "id": "HMoSgVZ33TKV",
        "outputId": "ec9a7bd5-2bcc-48f7-95e7-00c08384ecb3"
      },
      "execution_count": 53,
      "outputs": [
        {
          "output_type": "stream",
          "name": "stdout",
          "text": [
            "Text fetched successfully!\n"
          ]
        }
      ]
    },
    {
      "cell_type": "markdown",
      "source": [
        "# Step 3: Convert Corpus to Polars Data frame"
      ],
      "metadata": {
        "id": "KKFxD5XHH1o5"
      }
    },
    {
      "cell_type": "markdown",
      "source": [
        "## Extract paragraphs"
      ],
      "metadata": {
        "id": "nTl-2fy1CTRi"
      }
    },
    {
      "cell_type": "code",
      "source": [
        "paragraphs = raw_text.split(\"\\r\\n\\r\\n\")\n",
        "\n",
        "paragraphs_df = pl.DataFrame({\n",
        "    \"index\": range(0, len(paragraphs)),\n",
        "    \"text\": paragraphs\n",
        "})"
      ],
      "metadata": {
        "id": "OfcBWZUiH9bW"
      },
      "execution_count": 54,
      "outputs": []
    },
    {
      "cell_type": "markdown",
      "source": [
        "## Set Confige"
      ],
      "metadata": {
        "id": "T8Oz-1T1CjBx"
      }
    },
    {
      "cell_type": "code",
      "source": [
        "pl.Config.set_tbl_rows(-1)\n",
        "pl.Config.set_tbl_cols(-1)\n",
        "pl.Config.set_fmt_str_lengths(100)\n",
        "pl.Config.set_fmt_table_cell_list_len(100)"
      ],
      "metadata": {
        "colab": {
          "base_uri": "https://localhost:8080/",
          "height": 186
        },
        "id": "3h3Mh0k19_OJ",
        "outputId": "a3f3d256-69cd-47b8-a6eb-49d76122d705"
      },
      "execution_count": 71,
      "outputs": [
        {
          "output_type": "execute_result",
          "data": {
            "text/plain": [
              "polars.config.Config"
            ],
            "text/html": [
              "<div style=\"max-width:800px; border: 1px solid var(--colab-border-color);\"><style>\n",
              "      pre.function-repr-contents {\n",
              "        overflow-x: auto;\n",
              "        padding: 8px 12px;\n",
              "        max-height: 500px;\n",
              "      }\n",
              "\n",
              "      pre.function-repr-contents.function-repr-contents-collapsed {\n",
              "        cursor: pointer;\n",
              "        max-height: 100px;\n",
              "      }\n",
              "    </style>\n",
              "    <pre style=\"white-space: initial; background:\n",
              "         var(--colab-secondary-surface-color); padding: 8px 12px;\n",
              "         border-bottom: 1px solid var(--colab-border-color);\"><b>polars.config.Config</b><br/>def __call__(func)</pre><pre class=\"function-repr-contents function-repr-contents-collapsed\" style=\"\"><a class=\"filepath\" style=\"display:none\" href=\"#\">/usr/local/lib/python3.11/dist-packages/polars/config.py</a>Configure polars; offers options for table formatting and more.\n",
              "\n",
              "Notes\n",
              "-----\n",
              "Can also be used as a context manager OR a function decorator in order to\n",
              "temporarily scope the lifetime of specific options. For example:\n",
              "\n",
              "&gt;&gt;&gt; with pl.Config() as cfg:\n",
              "...     # set verbose for more detailed output within the scope\n",
              "...     cfg.set_verbose(True)  # doctest: +IGNORE_RESULT\n",
              "&gt;&gt;&gt; # scope exit - no longer in verbose mode\n",
              "\n",
              "This can also be written more compactly as:\n",
              "\n",
              "&gt;&gt;&gt; with pl.Config(verbose=True):\n",
              "...     pass\n",
              "\n",
              "(The compact format is available for all `Config` methods that take a single value).\n",
              "\n",
              "Alternatively, you can use as a decorator in order to scope the duration of the\n",
              "selected options to a specific function:\n",
              "\n",
              "&gt;&gt;&gt; @pl.Config(verbose=True)\n",
              "... def test():\n",
              "...     pass</pre>\n",
              "      <script>\n",
              "      if (google.colab.kernel.accessAllowed && google.colab.files && google.colab.files.view) {\n",
              "        for (const element of document.querySelectorAll('.filepath')) {\n",
              "          element.style.display = 'block'\n",
              "          element.onclick = (event) => {\n",
              "            event.preventDefault();\n",
              "            event.stopPropagation();\n",
              "            google.colab.files.view(element.textContent, 145);\n",
              "          };\n",
              "        }\n",
              "      }\n",
              "      for (const element of document.querySelectorAll('.function-repr-contents')) {\n",
              "        element.onclick = (event) => {\n",
              "          event.preventDefault();\n",
              "          event.stopPropagation();\n",
              "          element.classList.toggle('function-repr-contents-collapsed');\n",
              "        };\n",
              "      }\n",
              "      </script>\n",
              "      </div>"
            ]
          },
          "metadata": {},
          "execution_count": 71
        }
      ]
    },
    {
      "cell_type": "markdown",
      "source": [
        "## Show parts of corpus"
      ],
      "metadata": {
        "id": "huCGv2yVCoOT"
      }
    },
    {
      "cell_type": "code",
      "source": [
        "paragraphs_df.head(10)"
      ],
      "metadata": {
        "colab": {
          "base_uri": "https://localhost:8080/",
          "height": 394
        },
        "id": "rGdFSLTj-P7d",
        "outputId": "45a5c511-0d3b-49f5-e16d-b982b1fa62f4"
      },
      "execution_count": 56,
      "outputs": [
        {
          "output_type": "execute_result",
          "data": {
            "text/plain": [
              "┌───────┬──────────────────────────────────────────────────────────────────────────────────────────────────────┐\n",
              "│ index ┆ text                                                                                                 │\n",
              "│ ---   ┆ ---                                                                                                  │\n",
              "│ i64   ┆ str                                                                                                  │\n",
              "╞═══════╪══════════════════════════════════════════════════════════════════════════════════════════════════════╡\n",
              "│ 0     ┆ ﻿The Project Gutenberg eBook of Tarzan, lord of the jungle\n",
              "                                           │\n",
              "│       ┆     \n",
              "                                                                                                │\n",
              "│       ┆ This ebook is for the use of anyon…                                                                  │\n",
              "│ 1     ┆ Title: Tarzan, lord of the jungle                                                                    │\n",
              "│ 2     ┆ \n",
              "                                                                                                    │\n",
              "│       ┆ Author: Edgar Rice Burroughs                                                                         │\n",
              "│ 3     ┆ Release date: February 12, 2024 [eBook #72938]                                                       │\n",
              "│ 4     ┆ Language: English                                                                                    │\n",
              "│ 5     ┆ Original publication: New York, NY: Grosset & Dunlap, Publishers, 1928                               │\n",
              "│ 6     ┆ Credits: Greg Weeks, Mary Meehan and the Online Distributed Proofreading Team at http://www.pgdp.net │\n",
              "│ 7     ┆ \n",
              "                                                                                                    │\n",
              "│       ┆ *** START OF THE PROJECT GUTENBERG EBOOK TARZAN, LORD OF THE JUNGLE ***                              │\n",
              "│ 8     ┆                                                                                                      │\n",
              "│ 9     ┆                                                                                                      │\n",
              "└───────┴──────────────────────────────────────────────────────────────────────────────────────────────────────┘"
            ],
            "text/html": [
              "<div><style>\n",
              ".dataframe > thead > tr,\n",
              ".dataframe > tbody > tr {\n",
              "  text-align: right;\n",
              "  white-space: pre-wrap;\n",
              "}\n",
              "</style>\n",
              "<table border=\"1\" class=\"dataframe\"><thead><tr><th>index</th><th>text</th></tr><tr><td>i64</td><td>str</td></tr></thead><tbody><tr><td>0</td><td>&quot;﻿The Project Gutenberg eBook of Tarzan, lord of the jungle\r\n",
              "&nbsp;&nbsp;&nbsp;&nbsp;\r\n",
              "This ebook is for the use of anyon…</td></tr><tr><td>1</td><td>&quot;Title: Tarzan, lord of the jungle&quot;</td></tr><tr><td>2</td><td>&quot;\r\n",
              "Author: Edgar Rice Burroughs&quot;</td></tr><tr><td>3</td><td>&quot;Release date: February 12, 2024 [eBook #72938]&quot;</td></tr><tr><td>4</td><td>&quot;Language: English&quot;</td></tr><tr><td>5</td><td>&quot;Original publication: New York, NY: Grosset &amp; Dunlap, Publishers, 1928&quot;</td></tr><tr><td>6</td><td>&quot;Credits: Greg Weeks, Mary Meehan and the Online Distributed Proofreading Team at http://www.pgdp.net&quot;</td></tr><tr><td>7</td><td>&quot;\r\n",
              "*** START OF THE PROJECT GUTENBERG EBOOK TARZAN, LORD OF THE JUNGLE ***&quot;</td></tr><tr><td>8</td><td>&quot;&quot;</td></tr><tr><td>9</td><td>&quot;&quot;</td></tr></tbody></table></div>"
            ]
          },
          "metadata": {},
          "execution_count": 56
        }
      ]
    },
    {
      "cell_type": "markdown",
      "source": [
        "# Step 4: Preprocessing"
      ],
      "metadata": {
        "id": "FDFS02z0Czqa"
      }
    },
    {
      "cell_type": "markdown",
      "source": [
        "## Clear some rows"
      ],
      "metadata": {
        "id": "PdDwdZxSDCgR"
      }
    },
    {
      "cell_type": "code",
      "source": [
        "indices_to_remove = list(range(0, 50))\n",
        "\n",
        "paragraphs_filtered_df = paragraphs_df.filter(\n",
        "    ~pl.col(\"index\").is_in(indices_to_remove)\n",
        ")\n",
        "\n",
        "paragraphs_filtered_df = paragraphs_filtered_df.with_row_index(\"new_index\").drop(\"index\")"
      ],
      "metadata": {
        "id": "HQzViKJCC2ic"
      },
      "execution_count": 57,
      "outputs": []
    },
    {
      "cell_type": "code",
      "source": [
        "paragraphs_filtered_df.head(100)"
      ],
      "metadata": {
        "colab": {
          "base_uri": "https://localhost:8080/",
          "height": 1000
        },
        "id": "3X3oLQPaErEg",
        "outputId": "120d59f0-4e3f-4341-b424-9ed40b80fd7e"
      },
      "execution_count": 58,
      "outputs": [
        {
          "output_type": "execute_result",
          "data": {
            "text/plain": [
              "┌───────────┬──────────────────────────────────────────────────────────────────────────┐\n",
              "│ new_index ┆ text                                                                     │\n",
              "│ ---       ┆ ---                                                                      │\n",
              "│ u32       ┆ str                                                                      │\n",
              "╞═══════════╪══════════════════════════════════════════════════════════════════════════╡\n",
              "│ 0         ┆ \n",
              "                                                                        │\n",
              "│           ┆ His great bulk swaying to and fro as he threw his weight first upon\n",
              "     │\n",
              "│           ┆ one side and then upon the ot…                                           │\n",
              "│ 1         ┆ In peace he had lived with Dango the hyena, Sheeta the leopard and Numa\n",
              " │\n",
              "│           ┆ the lion. Man alone had mad…                                             │\n",
              "│ 2         ┆ Always during the long hundred years of his life, Tantor had known\n",
              "      │\n",
              "│           ┆ man. There had been black men, a…                                        │\n",
              "│ 3         ┆ Tantor shared this caution with his fellows and avoided men--especially\n",
              " │\n",
              "│           ┆ white men; and so had there…                                             │\n",
              "│ 4         ┆ In the forest Fahd and Motlog, of the tribe el-Harb, hunted north from\n",
              "  │\n",
              "│           ┆ the menzil of Sheik Ibn Jad …                                            │\n",
              "│ 5         ┆ Fejjuan, as his comrades, thought of fresh meat, but also he thought\n",
              "    │\n",
              "│           ┆ of el-Habash, the land from wh…                                          │\n",
              "│ 6         ┆ Two marches to the north, in the southern extremity of Abyssinia, stood\n",
              " │\n",
              "│           ┆ the round dwelling of the f…                                             │\n",
              "│ 7         ┆ The leaves of the forest drowsed in the heat above the heads of the\n",
              "     │\n",
              "│           ┆ hunters. Beneath the drowsing l…                                         │\n",
              "│ 8         ┆ Fejjuan, the Galla slave, halted in his tracks, stopping those behind\n",
              "   │\n",
              "│           ┆ him by the silent mandate of …                                           │\n",
              "│ 9         ┆ As Tantor surged forward at the sound of the report Tarzan started to\n",
              "   │\n",
              "│           ┆ spring to an upright position…                                           │\n",
              "│ 10        ┆ Terrified, Tantor thought only of escape as he ran north through the\n",
              "    │\n",
              "│           ┆ forest, leaving in his wake fe…                                          │\n",
              "│ 11        ┆ \"Billah! Thou missed,\" exclaimed Fejjuan.                                │\n",
              "│ 12        ┆ \"Gluck!\" ejaculated Fahd. \"Sheytan guided the bullet. But let us\n",
              "        │\n",
              "│           ┆ see--perhaps el-fil is hit.\"                                             │\n",
              "│ 13        ┆ \"Nay, thou missed.\"                                                      │\n",
              "│ 14        ┆ The two men pushed forward, followed by their fellows, looking for the\n",
              "  │\n",
              "│           ┆ hoped-for carmine spoor. Fah…                                            │\n",
              "│ 15        ┆ \"Wellah! What have we here?\" he cried. \"I fired at el-fil and killed a\n",
              "  │\n",
              "│           ┆ Nasrany.\"                                                                │\n",
              "│ 16        ┆ The others crowded about. \"It is indeed a Christian dog, and naked,\n",
              "     │\n",
              "│           ┆ too,\" said Motlog.                                                       │\n",
              "│ 17        ┆ \"Or some wild man of the forest,\" suggested another. \"Where didst thy\n",
              "   │\n",
              "│           ┆ bullet strike him, Fahd?\"                                                │\n",
              "│ 18        ┆ They stooped and rolled Tarzan over. \"There is no mark of bullet upon\n",
              "   │\n",
              "│           ┆ him.\"                                                                    │\n",
              "│ 19        ┆ \"Is he dead? Perhaps he, too, hunted el-fil and was slain by the great\n",
              "  │\n",
              "│           ┆ beast.\"                                                                  │\n",
              "│ 20        ┆ \"He is not dead,\" announced Fejjuan, who had kneeled and placed an ear\n",
              "  │\n",
              "│           ┆ above the ape-man's heart. \"…                                            │\n",
              "│ 21        ┆ \"I will finish him,\" said Fahd, drawing his khusa.                       │\n",
              "│ 22        ┆ \"By Ullah, no! Put back thy knife, Fahd,\" said Motlog. \"Let the sheykh\n",
              "  │\n",
              "│           ┆ say if he shall be killed. T…                                            │\n",
              "│ 23        ┆ \"It is but a Nasrany,\" insisted Fahd. \"Think thou to carry him back to\n",
              "  │\n",
              "│           ┆ the menzil?\"                                                             │\n",
              "│ 24        ┆ \"He moves,\" said Fejjuan. \"Presently he will be able to walk there\n",
              "      │\n",
              "│           ┆ without help. But perhaps he wil…                                        │\n",
              "│ 25        ┆ \"Bind him,\" commanded Fahd. So with thongs of camel hide they made the\n",
              "  │\n",
              "│           ┆ ape-man's two wrists secure …                                            │\n",
              "│ 26        ┆ \"Why are my wrists bound?\" he asked them in their own tongue. \"Remove\n",
              "   │\n",
              "│           ┆ the thongs!\"                                                             │\n",
              "│ 27        ┆ Fahd laughed. \"Thinkest thou, Nasrany, that thou art some great sheykh\n",
              "  │\n",
              "│           ┆ that thou canst order about …                                            │\n",
              "│ 28        ┆ \"I am Tarzan,\" replied the ape-man, as one might say, \"I am the sheykh\n",
              "  │\n",
              "│           ┆ of sheykhs.\"                                                             │\n",
              "│ 29        ┆ \"Tarzan!\" exclaimed Motlog. He drew Fahd aside. \"Of all men,\" he said,\n",
              "  │\n",
              "│           ┆ lowering his voice, \"that it…                                            │\n",
              "│ 30        ┆ \"When I drew my khusa thou shouldst not have stopped my hand, Motlog,\"\n",
              "  │\n",
              "│           ┆ complained Fahd; \"but it is …                                            │\n",
              "│ 31        ┆ \"Billah, nay!\" cried Motlog. \"We have taken slaves in this country.\n",
              "     │\n",
              "│           ┆ They are with us now and some o…                                         │\n",
              "│ 32        ┆ \"Let us then take him before Ibn Jad that the responsibility may be\n",
              "     │\n",
              "│           ┆ his,\" said Fahd.                                                         │\n",
              "│ 33        ┆ \"Wellah, you speak wisely,\" replied Motlog. \"What the sheykh doeth with\n",
              " │\n",
              "│           ┆ this man is the sheykh's bu…                                             │\n",
              "│ 34        ┆ As they returned to where Tarzan stood he eyed them questioningly.       │\n",
              "│ 35        ┆ \"What have you decided to do with me?\" he demanded. \"If you are wise\n",
              "    │\n",
              "│           ┆ you will cut these bonds and l…                                          │\n",
              "│ 36        ┆ \"We are only poor men,\" said Motlog. \"It is not for us to say what\n",
              "      │\n",
              "│           ┆ shall be done, and so we shall t…                                        │\n",
              "│ 37        ┆ The Sheik Ibn Jad of the fendy el-Guad squatted in the open men's\n",
              "       │\n",
              "│           ┆ compartment of his beyt es-sh'ar,…                                       │\n",
              "│ 38        ┆ As the men talked the two women were busy within their apartment at\n",
              "     │\n",
              "│           ┆ their housewifely duties. In a …                                         │\n",
              "│ 39        ┆ \"We have come a long way without mishap from our own beled,\" Ibn Jad\n",
              "    │\n",
              "│           ┆ was remarking, \"and the way ha…                                          │\n",
              "│ 40        ┆ \"And thinkest thou to find this fabled city easily, once we are within\n",
              "  │\n",
              "│           ┆ the boundaries of el-Habash?…                                            │\n",
              "│ 41        ┆ \"Wellah, yes. It is known to the people of this far south Habash.\n",
              "       │\n",
              "│           ┆ Fejjuan, himself an Habashy, thou…                                       │\n",
              "│ 42        ┆ \"By Ullah, I hope it does not prove like the treasure that lies upon\n",
              "    │\n",
              "│           ┆ the great rock el-Howwara in t…                                          │\n",
              "│ 43        ┆ \"Yea,\" testified Tollog, \"I had it from one of the fendy Hazim that\n",
              "     │\n",
              "│           ┆ a wise Moghreby came by there i…                                         │\n",
              "│ 44        ┆ \"But none dared take it up,\" said Zeyd.                                  │\n",
              "│ 45        ┆ \"Billah!\" exclaimed Ibn Jad. \"There be no afrit guarding the treasures\n",
              "  │\n",
              "│           ┆ of Nimmr. Naught but flesh a…                                            │\n",
              "│ 46        ┆ \"Ullah grant that it may be as easily found as the treasure of\n",
              "          │\n",
              "│           ┆ Geryeh,\" said Zeyd, \"which lays a jo…                                    │\n",
              "│ 47        ┆ \"Once we are come to Nimmr there will be no difficulty finding the\n",
              "      │\n",
              "│           ┆ treasure,\" Ibn Jad assured them.…                                        │\n",
              "│ 48        ┆ \"Often do magicians lie,\" said Tollog.                                   │\n",
              "│ 49        ┆ \"Who comes?\" exclaimed Ibn Jad, looking toward the jungle that hemmed\n",
              "   │\n",
              "│           ┆ the menzil upon all sides.                                               │\n",
              "│ 50        ┆ \"Billah! it is Fahd and Motlog returning from the hunt,\" said Tollog.\n",
              "   │\n",
              "│           ┆ \"Ullah grant that they bring …                                           │\n",
              "│ 51        ┆ \"They return too soon,\" said Zeyd.                                       │\n",
              "│ 52        ┆ \"But they do not come empty handed,\" and Ibn Jad pointed toward the\n",
              "     │\n",
              "│           ┆ naked giant that accompanied th…                                         │\n",
              "│ 53        ┆ The group surrounding Tarzan approached the sheik's beyt and halted.     │\n",
              "│ 54        ┆ Wrapped in his soiled calico thob, his head kerchief drawn across the\n",
              "   │\n",
              "│           ┆ lower part of his face, Ibn J…                                           │\n",
              "│ 55        ┆ \"Who is sheykh here?\" demanded Tarzan in tones of authority that belied\n",
              " │\n",
              "│           ┆ the camel leather thongs ab…                                             │\n",
              "│ 56        ┆ Ibn Jad permitted his thorrib to fall from before his face. \"Wellah, I\n",
              "  │\n",
              "│           ┆ am sheykh,\" he said, \"and by…                                            │\n",
              "│ 57        ┆ \"They call me Tarzan of the Apes, Moslem.\"                               │\n",
              "│ 58        ┆ \"Tarzan of the Apes,\" mused Ibn Jad. \"I have heard the name.\"            │\n",
              "│ 59        ┆ \"Doubtless. It is not unknown to 'Aarab slave raiders. Why, then, came\n",
              "  │\n",
              "│           ┆ you to my country, knowing I…                                            │\n",
              "│ 60        ┆ \"We do not come for slaves,\" Ibn Jad assured him. \"We do but trade in\n",
              "   │\n",
              "│           ┆ peace for ivory.\"                                                        │\n",
              "│ 61        ┆ \"Thou liest in thy beard, Moslem,\" returned Tarzan, quietly. \"I\n",
              "         │\n",
              "│           ┆ recognize both Manyuema and Galla s…                                     │\n",
              "│ 62        ┆ \"By Ullah! we are honest men,\" cried Ibn Jad. \"Fahd and Motlog did but\n",
              "  │\n",
              "│           ┆ hunt for meat. If they shot …                                            │\n",
              "│ 63        ┆ \"Enough!\" cried Tarzan. \"Remove the thongs that bind me and prepare\n",
              "     │\n",
              "│           ┆ to return north from whence tho…                                         │\n",
              "│ 64        ┆ \"We have come a long way and wish only to trade in peace,\" insisted Ibn\n",
              " │\n",
              "│           ┆ Jad. \"We shall pay our bear…                                             │\n",
              "│ 65        ┆ Tarzan shook his head. \"No! you shall go at once. Come, cut these\n",
              "       │\n",
              "│           ┆ bonds!\"                                                                  │\n",
              "│ 66        ┆ Ibn Jad's eyes narrowed. \"We have offered thee peace and profits,\n",
              "       │\n",
              "│           ┆ Nasrany,\" he said, \"but if thou w…                                       │\n",
              "│ 67        ┆ \"Be careful, Moslem,\" warned Tarzan, \"the arms of the ape-man are\n",
              "       │\n",
              "│           ┆ long--they may reach out even in …                                       │\n",
              "│ 68        ┆ \"Thou shalt have until dark to decide, Nasrany, and thou mayest know\n",
              "    │\n",
              "│           ┆ that Ibn Jad will not turn bac…                                          │\n",
              "│ 69        ┆ They took Tarzan then and at a distance from the beyt of Ibn Jad they\n",
              "   │\n",
              "│           ┆ pushed him into a small hejra…                                           │\n",
              "│ 70        ┆ In the beyt of the sheik the Beduins sipped their coffee, sickish with\n",
              "  │\n",
              "│           ┆ clove, cinnamon and other sp…                                            │\n",
              "│ 71        ┆ \"But for Motlog,\" said Fahd, \"we would now have no cause for worry\n",
              "      │\n",
              "│           ┆ concerning the Nasrany, for I ha…                                        │\n",
              "│ 72        ┆ \"And had word of his slaying spread broadcast over his country before\n",
              "   │\n",
              "│           ┆ another sunset and all his pe…                                           │\n",
              "│ 73        ┆ \"Wellah,\" said Tollog, the sheik's brother. \"I wish Fahd had done the\n",
              "   │\n",
              "│           ┆ thing he wished. After all ho…                                           │\n",
              "│ 74        ┆ \"Tollog, thou speakest words of wisdom,\" said Ibn Jad, nodding\n",
              "          │\n",
              "│           ┆ appreciatively.                                                          │\n",
              "│ 75        ┆ \"But wait,\" said Tollog, \"I have within me, unspoken, words of even\n",
              "     │\n",
              "│           ┆ greater worth.\" He leaned forwa…                                         │\n",
              "│ 76        ┆ \"Billah!\" exclaimed Fahd disgustedly. \"There would be no need for an\n",
              "    │\n",
              "│           ┆ escaped slave to bring word to…                                          │\n",
              "│ 77        ┆ \"Thou hast not heard all that I would say, brother,\" continued Tollog,\n",
              "  │\n",
              "│           ┆ ignoring Fahd. \"It would onl…                                            │\n",
              "│ 78        ┆ \"I do not follow thee, brother,\" said Ibn Jad.                           │\n",
              "│ 79        ┆ \"The Nasrany lies bound in yonder hejra. The night will be dark. A slim\n",
              " │\n",
              "│           ┆ knife between his ribs were…                                             │\n",
              "│ 80        ┆ \"By Ullah, it is plain that thou art of sheykhly blood, Tollog,\"\n",
              "        │\n",
              "│           ┆ exclaimed Ibn Jad. \"The wisdom of …                                      │\n",
              "│ 81        ┆                                                                          │\n",
              "│ 82        ┆ \n",
              "                                                                        │\n",
              "│           ┆                               CHAPTER II                                 │\n",
              "│ 83        ┆                         _Comrades of the Wild_                           │\n",
              "│ 84        ┆ \n",
              "                                                                        │\n",
              "│           ┆ Darkness fell upon the menzil of Ibn Jad the sheik. Beneath the small\n",
              "   │\n",
              "│           ┆ flitting tent where his cap…                                             │\n",
              "│ 85        ┆ Without the beyt of Ibn Jad Ateja, the sheik's daughter, loitered, and\n",
              "  │\n",
              "│           ┆ with her was Zeyd. They stoo…                                            │\n",
              "│ 86        ┆ \"Tell me, Ateja,\" he said, \"that you love no other than Zeyd.\"           │\n",
              "│ 87        ┆ \"How many times must I tell you that?\" whispered the girl.               │\n",
              "│ 88        ┆ \"And you do not love Fahd?\" insisted the man.                            │\n",
              "│ 89        ┆ \"Billah, no!\" she ejaculated.                                            │\n",
              "│ 90        ┆ \"Yet your father gives the impression that one day you will be Fahd's.\"  │\n",
              "│ 91        ┆ \"My father wishes me to be of the hareem of Fahd, but I mistrust the\n",
              "    │\n",
              "│           ┆ man, and I could not belong to…                                          │\n",
              "│ 92        ┆ \"I, too, mistrust Fahd,\" said Zeyd. \"Listen Ateja! I doubt his loyalty\n",
              "  │\n",
              "│           ┆ to thy father, and not his a…                                            │\n",
              "│ 93        ┆ The girl nodded her head. \"I know. It is not necessary even to whisper\n",
              "  │\n",
              "│           ┆ the name to me--and I hate h…                                            │\n",
              "│ 94        ┆ \"But he is of thine own kin,\" the youth reminded her.                    │\n",
              "│ 95        ┆ \"What of that? Is he not also my father's brother? If that bond does\n",
              "    │\n",
              "│           ┆ not hold him loyal to Ibn Jad,…                                          │\n",
              "│ 96        ┆ \"And perhaps a division of the spoils of the ghrazzu upon the treasure\n",
              "  │\n",
              "│           ┆ city,\" suggested Zeyd.                                                   │\n",
              "│ 97        ┆ \"It is not unlikely,\" replied the girl, \"and--Ullah! what was that?\"     │\n",
              "│ 98        ┆ The Beduins seated about the coffee fire leaped to their feet. The\n",
              "      │\n",
              "│           ┆ black slaves, startled, peered o…                                        │\n",
              "│ 99        ┆ \"Billah!\" ejaculated Ibn Jad. \"It came from the midst of the menzil,\n",
              "    │\n",
              "│           ┆ and it was the voice of a beas…                                          │\n",
              "└───────────┴──────────────────────────────────────────────────────────────────────────┘"
            ],
            "text/html": [
              "<div><style>\n",
              ".dataframe > thead > tr,\n",
              ".dataframe > tbody > tr {\n",
              "  text-align: right;\n",
              "  white-space: pre-wrap;\n",
              "}\n",
              "</style>\n",
              "<table border=\"1\" class=\"dataframe\"><thead><tr><th>new_index</th><th>text</th></tr><tr><td>u32</td><td>str</td></tr></thead><tbody><tr><td>0</td><td>&quot;\r\n",
              "His great bulk swaying to and fro as he threw his weight first upon\r\n",
              "one side and then upon the ot…</td></tr><tr><td>1</td><td>&quot;In peace he had lived with Dango the hyena, Sheeta the leopard and Numa\r\n",
              "the lion. Man alone had mad…</td></tr><tr><td>2</td><td>&quot;Always during the long hundred years of his life, Tantor had known\r\n",
              "man. There had been black men, a…</td></tr><tr><td>3</td><td>&quot;Tantor shared this caution with his fellows and avoided men--especially\r\n",
              "white men; and so had there…</td></tr><tr><td>4</td><td>&quot;In the forest Fahd and Motlog, of the tribe el-Harb, hunted north from\r\n",
              "the menzil of Sheik Ibn Jad …</td></tr><tr><td>5</td><td>&quot;Fejjuan, as his comrades, thought of fresh meat, but also he thought\r\n",
              "of el-Habash, the land from wh…</td></tr><tr><td>6</td><td>&quot;Two marches to the north, in the southern extremity of Abyssinia, stood\r\n",
              "the round dwelling of the f…</td></tr><tr><td>7</td><td>&quot;The leaves of the forest drowsed in the heat above the heads of the\r\n",
              "hunters. Beneath the drowsing l…</td></tr><tr><td>8</td><td>&quot;Fejjuan, the Galla slave, halted in his tracks, stopping those behind\r\n",
              "him by the silent mandate of …</td></tr><tr><td>9</td><td>&quot;As Tantor surged forward at the sound of the report Tarzan started to\r\n",
              "spring to an upright position…</td></tr><tr><td>10</td><td>&quot;Terrified, Tantor thought only of escape as he ran north through the\r\n",
              "forest, leaving in his wake fe…</td></tr><tr><td>11</td><td>&quot;&quot;Billah! Thou missed,&quot; exclaimed Fejjuan.&quot;</td></tr><tr><td>12</td><td>&quot;&quot;Gluck!&quot; ejaculated Fahd. &quot;Sheytan guided the bullet. But let us\r\n",
              "see--perhaps el-fil is hit.&quot;&quot;</td></tr><tr><td>13</td><td>&quot;&quot;Nay, thou missed.&quot;&quot;</td></tr><tr><td>14</td><td>&quot;The two men pushed forward, followed by their fellows, looking for the\r\n",
              "hoped-for carmine spoor. Fah…</td></tr><tr><td>15</td><td>&quot;&quot;Wellah! What have we here?&quot; he cried. &quot;I fired at el-fil and killed a\r\n",
              "Nasrany.&quot;&quot;</td></tr><tr><td>16</td><td>&quot;The others crowded about. &quot;It is indeed a Christian dog, and naked,\r\n",
              "too,&quot; said Motlog.&quot;</td></tr><tr><td>17</td><td>&quot;&quot;Or some wild man of the forest,&quot; suggested another. &quot;Where didst thy\r\n",
              "bullet strike him, Fahd?&quot;&quot;</td></tr><tr><td>18</td><td>&quot;They stooped and rolled Tarzan over. &quot;There is no mark of bullet upon\r\n",
              "him.&quot;&quot;</td></tr><tr><td>19</td><td>&quot;&quot;Is he dead? Perhaps he, too, hunted el-fil and was slain by the great\r\n",
              "beast.&quot;&quot;</td></tr><tr><td>20</td><td>&quot;&quot;He is not dead,&quot; announced Fejjuan, who had kneeled and placed an ear\r\n",
              "above the ape-man&#x27;s heart. &quot;…</td></tr><tr><td>21</td><td>&quot;&quot;I will finish him,&quot; said Fahd, drawing his khusa.&quot;</td></tr><tr><td>22</td><td>&quot;&quot;By Ullah, no! Put back thy knife, Fahd,&quot; said Motlog. &quot;Let the sheykh\r\n",
              "say if he shall be killed. T…</td></tr><tr><td>23</td><td>&quot;&quot;It is but a Nasrany,&quot; insisted Fahd. &quot;Think thou to carry him back to\r\n",
              "the menzil?&quot;&quot;</td></tr><tr><td>24</td><td>&quot;&quot;He moves,&quot; said Fejjuan. &quot;Presently he will be able to walk there\r\n",
              "without help. But perhaps he wil…</td></tr><tr><td>25</td><td>&quot;&quot;Bind him,&quot; commanded Fahd. So with thongs of camel hide they made the\r\n",
              "ape-man&#x27;s two wrists secure …</td></tr><tr><td>26</td><td>&quot;&quot;Why are my wrists bound?&quot; he asked them in their own tongue. &quot;Remove\r\n",
              "the thongs!&quot;&quot;</td></tr><tr><td>27</td><td>&quot;Fahd laughed. &quot;Thinkest thou, Nasrany, that thou art some great sheykh\r\n",
              "that thou canst order about …</td></tr><tr><td>28</td><td>&quot;&quot;I am Tarzan,&quot; replied the ape-man, as one might say, &quot;I am the sheykh\r\n",
              "of sheykhs.&quot;&quot;</td></tr><tr><td>29</td><td>&quot;&quot;Tarzan!&quot; exclaimed Motlog. He drew Fahd aside. &quot;Of all men,&quot; he said,\r\n",
              "lowering his voice, &quot;that it…</td></tr><tr><td>30</td><td>&quot;&quot;When I drew my khusa thou shouldst not have stopped my hand, Motlog,&quot;\r\n",
              "complained Fahd; &quot;but it is …</td></tr><tr><td>31</td><td>&quot;&quot;Billah, nay!&quot; cried Motlog. &quot;We have taken slaves in this country.\r\n",
              "They are with us now and some o…</td></tr><tr><td>32</td><td>&quot;&quot;Let us then take him before Ibn Jad that the responsibility may be\r\n",
              "his,&quot; said Fahd.&quot;</td></tr><tr><td>33</td><td>&quot;&quot;Wellah, you speak wisely,&quot; replied Motlog. &quot;What the sheykh doeth with\r\n",
              "this man is the sheykh&#x27;s bu…</td></tr><tr><td>34</td><td>&quot;As they returned to where Tarzan stood he eyed them questioningly.&quot;</td></tr><tr><td>35</td><td>&quot;&quot;What have you decided to do with me?&quot; he demanded. &quot;If you are wise\r\n",
              "you will cut these bonds and l…</td></tr><tr><td>36</td><td>&quot;&quot;We are only poor men,&quot; said Motlog. &quot;It is not for us to say what\r\n",
              "shall be done, and so we shall t…</td></tr><tr><td>37</td><td>&quot;The Sheik Ibn Jad of the fendy el-Guad squatted in the open men&#x27;s\r\n",
              "compartment of his beyt es-sh&#x27;ar,…</td></tr><tr><td>38</td><td>&quot;As the men talked the two women were busy within their apartment at\r\n",
              "their housewifely duties. In a …</td></tr><tr><td>39</td><td>&quot;&quot;We have come a long way without mishap from our own beled,&quot; Ibn Jad\r\n",
              "was remarking, &quot;and the way ha…</td></tr><tr><td>40</td><td>&quot;&quot;And thinkest thou to find this fabled city easily, once we are within\r\n",
              "the boundaries of el-Habash?…</td></tr><tr><td>41</td><td>&quot;&quot;Wellah, yes. It is known to the people of this far south Habash.\r\n",
              "Fejjuan, himself an Habashy, thou…</td></tr><tr><td>42</td><td>&quot;&quot;By Ullah, I hope it does not prove like the treasure that lies upon\r\n",
              "the great rock el-Howwara in t…</td></tr><tr><td>43</td><td>&quot;&quot;Yea,&quot; testified Tollog, &quot;I had it from one of the fendy Hazim that\r\n",
              "a wise Moghreby came by there i…</td></tr><tr><td>44</td><td>&quot;&quot;But none dared take it up,&quot; said Zeyd.&quot;</td></tr><tr><td>45</td><td>&quot;&quot;Billah!&quot; exclaimed Ibn Jad. &quot;There be no afrit guarding the treasures\r\n",
              "of Nimmr. Naught but flesh a…</td></tr><tr><td>46</td><td>&quot;&quot;Ullah grant that it may be as easily found as the treasure of\r\n",
              "Geryeh,&quot; said Zeyd, &quot;which lays a jo…</td></tr><tr><td>47</td><td>&quot;&quot;Once we are come to Nimmr there will be no difficulty finding the\r\n",
              "treasure,&quot; Ibn Jad assured them.…</td></tr><tr><td>48</td><td>&quot;&quot;Often do magicians lie,&quot; said Tollog.&quot;</td></tr><tr><td>49</td><td>&quot;&quot;Who comes?&quot; exclaimed Ibn Jad, looking toward the jungle that hemmed\r\n",
              "the menzil upon all sides.&quot;</td></tr><tr><td>50</td><td>&quot;&quot;Billah! it is Fahd and Motlog returning from the hunt,&quot; said Tollog.\r\n",
              "&quot;Ullah grant that they bring …</td></tr><tr><td>51</td><td>&quot;&quot;They return too soon,&quot; said Zeyd.&quot;</td></tr><tr><td>52</td><td>&quot;&quot;But they do not come empty handed,&quot; and Ibn Jad pointed toward the\r\n",
              "naked giant that accompanied th…</td></tr><tr><td>53</td><td>&quot;The group surrounding Tarzan approached the sheik&#x27;s beyt and halted.&quot;</td></tr><tr><td>54</td><td>&quot;Wrapped in his soiled calico thob, his head kerchief drawn across the\r\n",
              "lower part of his face, Ibn J…</td></tr><tr><td>55</td><td>&quot;&quot;Who is sheykh here?&quot; demanded Tarzan in tones of authority that belied\r\n",
              "the camel leather thongs ab…</td></tr><tr><td>56</td><td>&quot;Ibn Jad permitted his thorrib to fall from before his face. &quot;Wellah, I\r\n",
              "am sheykh,&quot; he said, &quot;and by…</td></tr><tr><td>57</td><td>&quot;&quot;They call me Tarzan of the Apes, Moslem.&quot;&quot;</td></tr><tr><td>58</td><td>&quot;&quot;Tarzan of the Apes,&quot; mused Ibn Jad. &quot;I have heard the name.&quot;&quot;</td></tr><tr><td>59</td><td>&quot;&quot;Doubtless. It is not unknown to &#x27;Aarab slave raiders. Why, then, came\r\n",
              "you to my country, knowing I…</td></tr><tr><td>60</td><td>&quot;&quot;We do not come for slaves,&quot; Ibn Jad assured him. &quot;We do but trade in\r\n",
              "peace for ivory.&quot;&quot;</td></tr><tr><td>61</td><td>&quot;&quot;Thou liest in thy beard, Moslem,&quot; returned Tarzan, quietly. &quot;I\r\n",
              "recognize both Manyuema and Galla s…</td></tr><tr><td>62</td><td>&quot;&quot;By Ullah! we are honest men,&quot; cried Ibn Jad. &quot;Fahd and Motlog did but\r\n",
              "hunt for meat. If they shot …</td></tr><tr><td>63</td><td>&quot;&quot;Enough!&quot; cried Tarzan. &quot;Remove the thongs that bind me and prepare\r\n",
              "to return north from whence tho…</td></tr><tr><td>64</td><td>&quot;&quot;We have come a long way and wish only to trade in peace,&quot; insisted Ibn\r\n",
              "Jad. &quot;We shall pay our bear…</td></tr><tr><td>65</td><td>&quot;Tarzan shook his head. &quot;No! you shall go at once. Come, cut these\r\n",
              "bonds!&quot;&quot;</td></tr><tr><td>66</td><td>&quot;Ibn Jad&#x27;s eyes narrowed. &quot;We have offered thee peace and profits,\r\n",
              "Nasrany,&quot; he said, &quot;but if thou w…</td></tr><tr><td>67</td><td>&quot;&quot;Be careful, Moslem,&quot; warned Tarzan, &quot;the arms of the ape-man are\r\n",
              "long--they may reach out even in …</td></tr><tr><td>68</td><td>&quot;&quot;Thou shalt have until dark to decide, Nasrany, and thou mayest know\r\n",
              "that Ibn Jad will not turn bac…</td></tr><tr><td>69</td><td>&quot;They took Tarzan then and at a distance from the beyt of Ibn Jad they\r\n",
              "pushed him into a small hejra…</td></tr><tr><td>70</td><td>&quot;In the beyt of the sheik the Beduins sipped their coffee, sickish with\r\n",
              "clove, cinnamon and other sp…</td></tr><tr><td>71</td><td>&quot;&quot;But for Motlog,&quot; said Fahd, &quot;we would now have no cause for worry\r\n",
              "concerning the Nasrany, for I ha…</td></tr><tr><td>72</td><td>&quot;&quot;And had word of his slaying spread broadcast over his country before\r\n",
              "another sunset and all his pe…</td></tr><tr><td>73</td><td>&quot;&quot;Wellah,&quot; said Tollog, the sheik&#x27;s brother. &quot;I wish Fahd had done the\r\n",
              "thing he wished. After all ho…</td></tr><tr><td>74</td><td>&quot;&quot;Tollog, thou speakest words of wisdom,&quot; said Ibn Jad, nodding\r\n",
              "appreciatively.&quot;</td></tr><tr><td>75</td><td>&quot;&quot;But wait,&quot; said Tollog, &quot;I have within me, unspoken, words of even\r\n",
              "greater worth.&quot; He leaned forwa…</td></tr><tr><td>76</td><td>&quot;&quot;Billah!&quot; exclaimed Fahd disgustedly. &quot;There would be no need for an\r\n",
              "escaped slave to bring word to…</td></tr><tr><td>77</td><td>&quot;&quot;Thou hast not heard all that I would say, brother,&quot; continued Tollog,\r\n",
              "ignoring Fahd. &quot;It would onl…</td></tr><tr><td>78</td><td>&quot;&quot;I do not follow thee, brother,&quot; said Ibn Jad.&quot;</td></tr><tr><td>79</td><td>&quot;&quot;The Nasrany lies bound in yonder hejra. The night will be dark. A slim\r\n",
              "knife between his ribs were…</td></tr><tr><td>80</td><td>&quot;&quot;By Ullah, it is plain that thou art of sheykhly blood, Tollog,&quot;\r\n",
              "exclaimed Ibn Jad. &quot;The wisdom of …</td></tr><tr><td>81</td><td>&quot;&quot;</td></tr><tr><td>82</td><td>&quot;\r\n",
              "&nbsp;&nbsp;&nbsp;&nbsp;&nbsp;&nbsp;&nbsp;&nbsp;&nbsp;&nbsp;&nbsp;&nbsp;&nbsp;&nbsp;&nbsp;&nbsp;&nbsp;&nbsp;&nbsp;&nbsp;&nbsp;&nbsp;&nbsp;&nbsp;&nbsp;&nbsp;&nbsp;&nbsp;&nbsp;&nbsp;CHAPTER II&quot;</td></tr><tr><td>83</td><td>&quot;&nbsp;&nbsp;&nbsp;&nbsp;&nbsp;&nbsp;&nbsp;&nbsp;&nbsp;&nbsp;&nbsp;&nbsp;&nbsp;&nbsp;&nbsp;&nbsp;&nbsp;&nbsp;&nbsp;&nbsp;&nbsp;&nbsp;&nbsp;&nbsp;_Comrades of the Wild_&quot;</td></tr><tr><td>84</td><td>&quot;\r\n",
              "Darkness fell upon the menzil of Ibn Jad the sheik. Beneath the small\r\n",
              "flitting tent where his cap…</td></tr><tr><td>85</td><td>&quot;Without the beyt of Ibn Jad Ateja, the sheik&#x27;s daughter, loitered, and\r\n",
              "with her was Zeyd. They stoo…</td></tr><tr><td>86</td><td>&quot;&quot;Tell me, Ateja,&quot; he said, &quot;that you love no other than Zeyd.&quot;&quot;</td></tr><tr><td>87</td><td>&quot;&quot;How many times must I tell you that?&quot; whispered the girl.&quot;</td></tr><tr><td>88</td><td>&quot;&quot;And you do not love Fahd?&quot; insisted the man.&quot;</td></tr><tr><td>89</td><td>&quot;&quot;Billah, no!&quot; she ejaculated.&quot;</td></tr><tr><td>90</td><td>&quot;&quot;Yet your father gives the impression that one day you will be Fahd&#x27;s.&quot;&quot;</td></tr><tr><td>91</td><td>&quot;&quot;My father wishes me to be of the hareem of Fahd, but I mistrust the\r\n",
              "man, and I could not belong to…</td></tr><tr><td>92</td><td>&quot;&quot;I, too, mistrust Fahd,&quot; said Zeyd. &quot;Listen Ateja! I doubt his loyalty\r\n",
              "to thy father, and not his a…</td></tr><tr><td>93</td><td>&quot;The girl nodded her head. &quot;I know. It is not necessary even to whisper\r\n",
              "the name to me--and I hate h…</td></tr><tr><td>94</td><td>&quot;&quot;But he is of thine own kin,&quot; the youth reminded her.&quot;</td></tr><tr><td>95</td><td>&quot;&quot;What of that? Is he not also my father&#x27;s brother? If that bond does\r\n",
              "not hold him loyal to Ibn Jad,…</td></tr><tr><td>96</td><td>&quot;&quot;And perhaps a division of the spoils of the ghrazzu upon the treasure\r\n",
              "city,&quot; suggested Zeyd.&quot;</td></tr><tr><td>97</td><td>&quot;&quot;It is not unlikely,&quot; replied the girl, &quot;and--Ullah! what was that?&quot;&quot;</td></tr><tr><td>98</td><td>&quot;The Beduins seated about the coffee fire leaped to their feet. The\r\n",
              "black slaves, startled, peered o…</td></tr><tr><td>99</td><td>&quot;&quot;Billah!&quot; ejaculated Ibn Jad. &quot;It came from the midst of the menzil,\r\n",
              "and it was the voice of a beas…</td></tr></tbody></table></div>"
            ]
          },
          "metadata": {},
          "execution_count": 58
        }
      ]
    },
    {
      "cell_type": "markdown",
      "source": [
        "# Step 5: N-gram Calculation"
      ],
      "metadata": {
        "id": "I0RrBzKUEUFx"
      }
    },
    {
      "cell_type": "code",
      "source": [
        "def N_gram(df: pl.DataFrame, n: int) -> pl.DataFrame:\n",
        "    def tokenize(text):\n",
        "        return text.lower().split()\n",
        "\n",
        "    def generate_ngrams(tokens, n):\n",
        "        return [tuple(tokens[i:i+n]) for i in range(len(tokens)-n+1)]\n",
        "\n",
        "    ngram_counter = Counter()\n",
        "    for row in df.iter_rows(named=True):\n",
        "        text = row[\"text\"]\n",
        "        tokens = tokenize(text)\n",
        "        ngrams = generate_ngrams(tokens, n)\n",
        "        ngram_counter.update(ngrams)\n",
        "\n",
        "    ngram_data = [\n",
        "        {\"index\": i, \"words\": list(ngram), \"count\": count}\n",
        "        for i, (ngram, count) in enumerate(ngram_counter.items())\n",
        "    ]\n",
        "\n",
        "    return pl.DataFrame(ngram_data)"
      ],
      "metadata": {
        "id": "VU-CtwQ5EJHq"
      },
      "execution_count": 59,
      "outputs": []
    },
    {
      "cell_type": "code",
      "source": [
        "unigram_df = N_gram(paragraphs_filtered_df, n=1)\n",
        "bigram_df = N_gram(paragraphs_filtered_df, n=2)\n",
        "trigram_df = N_gram(paragraphs_filtered_df, n=3)\n",
        "tetragram_df = N_gram(paragraphs_filtered_df, n=4)\n",
        "pentagram_df = N_gram(paragraphs_filtered_df, n=5)"
      ],
      "metadata": {
        "id": "B4Ub1u2mFjAZ"
      },
      "execution_count": 85,
      "outputs": []
    },
    {
      "cell_type": "code",
      "source": [
        "dfs = [df.drop(\"index\") for df in [unigram_df.head(10), bigram_df.head(10), trigram_df.head(10), tetragram_df.head(10), pentagram_df.head(10)]]\n",
        "dfs_renamed = [df.rename({\"words\": f\"words{i+1}\", \"count\": f\"count{i+1}\"}) for i, df in enumerate(dfs)]\n",
        "\n",
        "combined_df = pl.concat(dfs_renamed, how=\"horizontal\")"
      ],
      "metadata": {
        "id": "7FTf8cbmGVyl"
      },
      "execution_count": 86,
      "outputs": []
    },
    {
      "cell_type": "code",
      "source": [
        "combined_df"
      ],
      "metadata": {
        "colab": {
          "base_uri": "https://localhost:8080/",
          "height": 394
        },
        "id": "Wqx7K-teMnDt",
        "outputId": "31b905b9-c254-42a7-c559-203ac59111f6"
      },
      "execution_count": 87,
      "outputs": [
        {
          "output_type": "execute_result",
          "data": {
            "text/plain": [
              "┌─────────────┬────────┬─────────────────────┬────────┬──────────────────────────────┬────────┬─────────────────────────────────────┬────────┬─────────────────────────────────────────────┬────────┐\n",
              "│ words1      ┆ count1 ┆ words2              ┆ count2 ┆ words3                       ┆ count3 ┆ words4                              ┆ count4 ┆ words5                                      ┆ count5 │\n",
              "│ ---         ┆ ---    ┆ ---                 ┆ ---    ┆ ---                          ┆ ---    ┆ ---                                 ┆ ---    ┆ ---                                         ┆ ---    │\n",
              "│ list[str]   ┆ i64    ┆ list[str]           ┆ i64    ┆ list[str]                    ┆ i64    ┆ list[str]                           ┆ i64    ┆ list[str]                                   ┆ i64    │\n",
              "╞═════════════╪════════╪═════════════════════╪════════╪══════════════════════════════╪════════╪═════════════════════════════════════╪════════╪═════════════════════════════════════════════╪════════╡\n",
              "│ [\"his\"]     ┆ 1058   ┆ [\"his\", \"great\"]    ┆ 11     ┆ [\"his\", \"great\", \"bulk\"]     ┆ 1      ┆ [\"his\", \"great\", \"bulk\", \"swaying\"] ┆ 1      ┆ [\"his\", \"great\", \"bulk\", \"swaying\", \"to\"]   ┆ 1      │\n",
              "│ [\"great\"]   ┆ 194    ┆ [\"great\", \"bulk\"]   ┆ 1      ┆ [\"great\", \"bulk\", \"swaying\"] ┆ 1      ┆ [\"great\", \"bulk\", \"swaying\", \"to\"]  ┆ 1      ┆ [\"great\", \"bulk\", \"swaying\", \"to\", \"and\"]   ┆ 1      │\n",
              "│ [\"bulk\"]    ┆ 4      ┆ [\"bulk\", \"swaying\"] ┆ 1      ┆ [\"bulk\", \"swaying\", \"to\"]    ┆ 1      ┆ [\"bulk\", \"swaying\", \"to\", \"and\"]    ┆ 1      ┆ [\"bulk\", \"swaying\", \"to\", \"and\", \"fro\"]     ┆ 1      │\n",
              "│ [\"swaying\"] ┆ 6      ┆ [\"swaying\", \"to\"]   ┆ 1      ┆ [\"swaying\", \"to\", \"and\"]     ┆ 1      ┆ [\"swaying\", \"to\", \"and\", \"fro\"]     ┆ 1      ┆ [\"swaying\", \"to\", \"and\", \"fro\", \"as\"]       ┆ 1      │\n",
              "│ [\"to\"]      ┆ 1604   ┆ [\"to\", \"and\"]       ┆ 4      ┆ [\"to\", \"and\", \"fro\"]         ┆ 1      ┆ [\"to\", \"and\", \"fro\", \"as\"]          ┆ 1      ┆ [\"to\", \"and\", \"fro\", \"as\", \"he\"]            ┆ 1      │\n",
              "│ [\"and\"]     ┆ 2331   ┆ [\"and\", \"fro\"]      ┆ 1      ┆ [\"and\", \"fro\", \"as\"]         ┆ 1      ┆ [\"and\", \"fro\", \"as\", \"he\"]          ┆ 1      ┆ [\"and\", \"fro\", \"as\", \"he\", \"threw\"]         ┆ 1      │\n",
              "│ [\"fro\"]     ┆ 1      ┆ [\"fro\", \"as\"]       ┆ 1      ┆ [\"fro\", \"as\", \"he\"]          ┆ 1      ┆ [\"fro\", \"as\", \"he\", \"threw\"]        ┆ 1      ┆ [\"fro\", \"as\", \"he\", \"threw\", \"his\"]         ┆ 1      │\n",
              "│ [\"as\"]      ┆ 474    ┆ [\"as\", \"he\"]        ┆ 85     ┆ [\"as\", \"he\", \"threw\"]        ┆ 1      ┆ [\"as\", \"he\", \"threw\", \"his\"]        ┆ 1      ┆ [\"as\", \"he\", \"threw\", \"his\", \"weight\"]      ┆ 1      │\n",
              "│ [\"he\"]      ┆ 1432   ┆ [\"he\", \"threw\"]     ┆ 2      ┆ [\"he\", \"threw\", \"his\"]       ┆ 1      ┆ [\"he\", \"threw\", \"his\", \"weight\"]    ┆ 1      ┆ [\"he\", \"threw\", \"his\", \"weight\", \"first\"]   ┆ 1      │\n",
              "│ [\"threw\"]   ┆ 10     ┆ [\"threw\", \"his\"]    ┆ 2      ┆ [\"threw\", \"his\", \"weight\"]   ┆ 1      ┆ [\"threw\", \"his\", \"weight\", \"first\"] ┆ 1      ┆ [\"threw\", \"his\", \"weight\", \"first\", \"upon\"] ┆ 1      │\n",
              "└─────────────┴────────┴─────────────────────┴────────┴──────────────────────────────┴────────┴─────────────────────────────────────┴────────┴─────────────────────────────────────────────┴────────┘"
            ],
            "text/html": [
              "<div><style>\n",
              ".dataframe > thead > tr,\n",
              ".dataframe > tbody > tr {\n",
              "  text-align: right;\n",
              "  white-space: pre-wrap;\n",
              "}\n",
              "</style>\n",
              "<table border=\"1\" class=\"dataframe\"><thead><tr><th>words1</th><th>count1</th><th>words2</th><th>count2</th><th>words3</th><th>count3</th><th>words4</th><th>count4</th><th>words5</th><th>count5</th></tr><tr><td>list[str]</td><td>i64</td><td>list[str]</td><td>i64</td><td>list[str]</td><td>i64</td><td>list[str]</td><td>i64</td><td>list[str]</td><td>i64</td></tr></thead><tbody><tr><td>[&quot;his&quot;]</td><td>1058</td><td>[&quot;his&quot;, &quot;great&quot;]</td><td>11</td><td>[&quot;his&quot;, &quot;great&quot;, &quot;bulk&quot;]</td><td>1</td><td>[&quot;his&quot;, &quot;great&quot;, &quot;bulk&quot;, &quot;swaying&quot;]</td><td>1</td><td>[&quot;his&quot;, &quot;great&quot;, &quot;bulk&quot;, &quot;swaying&quot;, &quot;to&quot;]</td><td>1</td></tr><tr><td>[&quot;great&quot;]</td><td>194</td><td>[&quot;great&quot;, &quot;bulk&quot;]</td><td>1</td><td>[&quot;great&quot;, &quot;bulk&quot;, &quot;swaying&quot;]</td><td>1</td><td>[&quot;great&quot;, &quot;bulk&quot;, &quot;swaying&quot;, &quot;to&quot;]</td><td>1</td><td>[&quot;great&quot;, &quot;bulk&quot;, &quot;swaying&quot;, &quot;to&quot;, &quot;and&quot;]</td><td>1</td></tr><tr><td>[&quot;bulk&quot;]</td><td>4</td><td>[&quot;bulk&quot;, &quot;swaying&quot;]</td><td>1</td><td>[&quot;bulk&quot;, &quot;swaying&quot;, &quot;to&quot;]</td><td>1</td><td>[&quot;bulk&quot;, &quot;swaying&quot;, &quot;to&quot;, &quot;and&quot;]</td><td>1</td><td>[&quot;bulk&quot;, &quot;swaying&quot;, &quot;to&quot;, &quot;and&quot;, &quot;fro&quot;]</td><td>1</td></tr><tr><td>[&quot;swaying&quot;]</td><td>6</td><td>[&quot;swaying&quot;, &quot;to&quot;]</td><td>1</td><td>[&quot;swaying&quot;, &quot;to&quot;, &quot;and&quot;]</td><td>1</td><td>[&quot;swaying&quot;, &quot;to&quot;, &quot;and&quot;, &quot;fro&quot;]</td><td>1</td><td>[&quot;swaying&quot;, &quot;to&quot;, &quot;and&quot;, &quot;fro&quot;, &quot;as&quot;]</td><td>1</td></tr><tr><td>[&quot;to&quot;]</td><td>1604</td><td>[&quot;to&quot;, &quot;and&quot;]</td><td>4</td><td>[&quot;to&quot;, &quot;and&quot;, &quot;fro&quot;]</td><td>1</td><td>[&quot;to&quot;, &quot;and&quot;, &quot;fro&quot;, &quot;as&quot;]</td><td>1</td><td>[&quot;to&quot;, &quot;and&quot;, &quot;fro&quot;, &quot;as&quot;, &quot;he&quot;]</td><td>1</td></tr><tr><td>[&quot;and&quot;]</td><td>2331</td><td>[&quot;and&quot;, &quot;fro&quot;]</td><td>1</td><td>[&quot;and&quot;, &quot;fro&quot;, &quot;as&quot;]</td><td>1</td><td>[&quot;and&quot;, &quot;fro&quot;, &quot;as&quot;, &quot;he&quot;]</td><td>1</td><td>[&quot;and&quot;, &quot;fro&quot;, &quot;as&quot;, &quot;he&quot;, &quot;threw&quot;]</td><td>1</td></tr><tr><td>[&quot;fro&quot;]</td><td>1</td><td>[&quot;fro&quot;, &quot;as&quot;]</td><td>1</td><td>[&quot;fro&quot;, &quot;as&quot;, &quot;he&quot;]</td><td>1</td><td>[&quot;fro&quot;, &quot;as&quot;, &quot;he&quot;, &quot;threw&quot;]</td><td>1</td><td>[&quot;fro&quot;, &quot;as&quot;, &quot;he&quot;, &quot;threw&quot;, &quot;his&quot;]</td><td>1</td></tr><tr><td>[&quot;as&quot;]</td><td>474</td><td>[&quot;as&quot;, &quot;he&quot;]</td><td>85</td><td>[&quot;as&quot;, &quot;he&quot;, &quot;threw&quot;]</td><td>1</td><td>[&quot;as&quot;, &quot;he&quot;, &quot;threw&quot;, &quot;his&quot;]</td><td>1</td><td>[&quot;as&quot;, &quot;he&quot;, &quot;threw&quot;, &quot;his&quot;, &quot;weight&quot;]</td><td>1</td></tr><tr><td>[&quot;he&quot;]</td><td>1432</td><td>[&quot;he&quot;, &quot;threw&quot;]</td><td>2</td><td>[&quot;he&quot;, &quot;threw&quot;, &quot;his&quot;]</td><td>1</td><td>[&quot;he&quot;, &quot;threw&quot;, &quot;his&quot;, &quot;weight&quot;]</td><td>1</td><td>[&quot;he&quot;, &quot;threw&quot;, &quot;his&quot;, &quot;weight&quot;, &quot;first&quot;]</td><td>1</td></tr><tr><td>[&quot;threw&quot;]</td><td>10</td><td>[&quot;threw&quot;, &quot;his&quot;]</td><td>2</td><td>[&quot;threw&quot;, &quot;his&quot;, &quot;weight&quot;]</td><td>1</td><td>[&quot;threw&quot;, &quot;his&quot;, &quot;weight&quot;, &quot;first&quot;]</td><td>1</td><td>[&quot;threw&quot;, &quot;his&quot;, &quot;weight&quot;, &quot;first&quot;, &quot;upon&quot;]</td><td>1</td></tr></tbody></table></div>"
            ]
          },
          "metadata": {},
          "execution_count": 87
        }
      ]
    },
    {
      "cell_type": "markdown",
      "source": [
        "# Step X: N-gram Model"
      ],
      "metadata": {
        "id": "fikInyRIIuOr"
      }
    },
    {
      "cell_type": "code",
      "source": [],
      "metadata": {
        "colab": {
          "base_uri": "https://localhost:8080/"
        },
        "id": "DzmXDlhOIvBU",
        "outputId": "1c028d8a-acd0-46ff-f691-070d2351ee37"
      },
      "execution_count": 47,
      "outputs": [
        {
          "output_type": "stream",
          "name": "stdout",
          "text": [
            "Generated Sentence: knowing well the windings of the trail\n"
          ]
        }
      ]
    }
  ]
}