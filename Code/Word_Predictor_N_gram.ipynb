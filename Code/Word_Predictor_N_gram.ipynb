{
  "nbformat": 4,
  "nbformat_minor": 0,
  "metadata": {
    "colab": {
      "provenance": [],
      "authorship_tag": "ABX9TyNBuxFwMsfzUoVw3HNRg71o",
      "include_colab_link": true
    },
    "kernelspec": {
      "name": "python3",
      "display_name": "Python 3"
    },
    "language_info": {
      "name": "python"
    }
  },
  "cells": [
    {
      "cell_type": "markdown",
      "metadata": {
        "id": "view-in-github",
        "colab_type": "text"
      },
      "source": [
        "<a href=\"https://colab.research.google.com/github/AsadiAhmad/Word-Predictor/blob/main/Code/Word_Predictor_N_gram.ipynb\" target=\"_parent\"><img src=\"https://colab.research.google.com/assets/colab-badge.svg\" alt=\"Open In Colab\"/></a>"
      ]
    },
    {
      "cell_type": "markdown",
      "source": [
        "# Step 1: Import Libraries"
      ],
      "metadata": {
        "id": "8lExBPas26Io"
      }
    },
    {
      "cell_type": "code",
      "execution_count": 2,
      "metadata": {
        "id": "g67z2L4dzGxY"
      },
      "outputs": [],
      "source": [
        "import requests\n",
        "import polars as pl"
      ]
    },
    {
      "cell_type": "markdown",
      "source": [
        "# Step 2: Get Corpus"
      ],
      "metadata": {
        "id": "IGItXQ7f28lw"
      }
    },
    {
      "cell_type": "code",
      "source": [
        "corpus_url = \"https://raw.githubusercontent.com/AsadiAhmad/Word-Predictor/main/Corpus/Tarzan.txt\"\n",
        "\n",
        "response = requests.get(corpus_url)\n",
        "\n",
        "if response.status_code == 200:\n",
        "    raw_text = response.text\n",
        "    print(\"Text fetched successfully!\")\n",
        "else:\n",
        "    print(f\"Failed to fetch the text. Status code: {response.status_code}\")"
      ],
      "metadata": {
        "colab": {
          "base_uri": "https://localhost:8080/"
        },
        "id": "HMoSgVZ33TKV",
        "outputId": "eacc28e8-af81-4621-b8d3-7c533a9eadf4"
      },
      "execution_count": 6,
      "outputs": [
        {
          "output_type": "stream",
          "name": "stdout",
          "text": [
            "Text fetched successfully!\n"
          ]
        }
      ]
    }
  ]
}