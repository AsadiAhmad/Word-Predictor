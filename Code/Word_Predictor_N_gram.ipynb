{
  "nbformat": 4,
  "nbformat_minor": 0,
  "metadata": {
    "colab": {
      "provenance": [],
      "collapsed_sections": [
        "8lExBPas26Io",
        "IGItXQ7f28lw",
        "KKFxD5XHH1o5",
        "nTl-2fy1CTRi",
        "T8Oz-1T1CjBx",
        "huCGv2yVCoOT",
        "FDFS02z0Czqa",
        "PdDwdZxSDCgR",
        "I0RrBzKUEUFx",
        "fikInyRIIuOr"
      ],
      "authorship_tag": "ABX9TyPvzqsw5I8eC5fFXrmIcDIT",
      "include_colab_link": true
    },
    "kernelspec": {
      "name": "python3",
      "display_name": "Python 3"
    },
    "language_info": {
      "name": "python"
    }
  },
  "cells": [
    {
      "cell_type": "markdown",
      "metadata": {
        "id": "view-in-github",
        "colab_type": "text"
      },
      "source": [
        "<a href=\"https://colab.research.google.com/github/AsadiAhmad/Word-Predictor/blob/main/Code/Word_Predictor_N_gram.ipynb\" target=\"_parent\"><img src=\"https://colab.research.google.com/assets/colab-badge.svg\" alt=\"Open In Colab\"/></a>"
      ]
    },
    {
      "cell_type": "markdown",
      "source": [
        "# Step 1: Import Libraries"
      ],
      "metadata": {
        "id": "8lExBPas26Io"
      }
    },
    {
      "cell_type": "code",
      "execution_count": 62,
      "metadata": {
        "id": "g67z2L4dzGxY"
      },
      "outputs": [],
      "source": [
        "import requests\n",
        "\n",
        "import polars as pl\n",
        "\n",
        "from collections import Counter"
      ]
    },
    {
      "cell_type": "markdown",
      "source": [
        "# Step 2: Get Corpus"
      ],
      "metadata": {
        "id": "IGItXQ7f28lw"
      }
    },
    {
      "cell_type": "code",
      "source": [
        "corpus_url = \"https://raw.githubusercontent.com/AsadiAhmad/Word-Predictor/main/Corpus/Tarzan.txt\"\n",
        "\n",
        "response = requests.get(corpus_url)\n",
        "\n",
        "if response.status_code == 200:\n",
        "    raw_text = response.text\n",
        "    print(\"Text fetched successfully!\")\n",
        "else:\n",
        "    print(f\"Failed to fetch the text. Status code: {response.status_code}\")"
      ],
      "metadata": {
        "colab": {
          "base_uri": "https://localhost:8080/"
        },
        "id": "HMoSgVZ33TKV",
        "outputId": "666cb3ed-087b-4ba1-bd8a-75f42593b9ad"
      },
      "execution_count": 63,
      "outputs": [
        {
          "output_type": "stream",
          "name": "stdout",
          "text": [
            "Text fetched successfully!\n"
          ]
        }
      ]
    },
    {
      "cell_type": "markdown",
      "source": [
        "# Step 3: Convert Corpus to Polars Data frame"
      ],
      "metadata": {
        "id": "KKFxD5XHH1o5"
      }
    },
    {
      "cell_type": "markdown",
      "source": [
        "## Extract paragraphs"
      ],
      "metadata": {
        "id": "nTl-2fy1CTRi"
      }
    },
    {
      "cell_type": "code",
      "source": [
        "paragraphs = raw_text.split(\"\\r\\n\\r\\n\")\n",
        "\n",
        "paragraphs_df = pl.DataFrame({\n",
        "    \"index\": range(0, len(paragraphs)),\n",
        "    \"text\": paragraphs\n",
        "})"
      ],
      "metadata": {
        "id": "OfcBWZUiH9bW"
      },
      "execution_count": 64,
      "outputs": []
    },
    {
      "cell_type": "markdown",
      "source": [
        "## Set Confige"
      ],
      "metadata": {
        "id": "T8Oz-1T1CjBx"
      }
    },
    {
      "cell_type": "code",
      "source": [
        "pl.Config.set_tbl_rows(-1)\n",
        "pl.Config.set_tbl_cols(-1)\n",
        "pl.Config.set_fmt_str_lengths(100)\n",
        "pl.Config.set_fmt_table_cell_list_len(100)"
      ],
      "metadata": {
        "colab": {
          "base_uri": "https://localhost:8080/",
          "height": 224
        },
        "id": "3h3Mh0k19_OJ",
        "outputId": "16612c60-a3e9-4548-dab9-2a497e16e10f"
      },
      "execution_count": 65,
      "outputs": [
        {
          "output_type": "execute_result",
          "data": {
            "text/plain": [
              "polars.config.Config"
            ],
            "text/html": [
              "<div style=\"max-width:800px; border: 1px solid var(--colab-border-color);\"><style>\n",
              "      pre.function-repr-contents {\n",
              "        overflow-x: auto;\n",
              "        padding: 8px 12px;\n",
              "        max-height: 500px;\n",
              "      }\n",
              "\n",
              "      pre.function-repr-contents.function-repr-contents-collapsed {\n",
              "        cursor: pointer;\n",
              "        max-height: 100px;\n",
              "      }\n",
              "    </style>\n",
              "    <pre style=\"white-space: initial; background:\n",
              "         var(--colab-secondary-surface-color); padding: 8px 12px;\n",
              "         border-bottom: 1px solid var(--colab-border-color);\"><b>polars.config.Config</b><br/>def __call__(func)</pre><pre class=\"function-repr-contents function-repr-contents-collapsed\" style=\"\"><a class=\"filepath\" style=\"display:none\" href=\"#\">/usr/local/lib/python3.11/dist-packages/polars/config.py</a>Configure polars; offers options for table formatting and more.\n",
              "\n",
              "Notes\n",
              "-----\n",
              "Can also be used as a context manager OR a function decorator in order to\n",
              "temporarily scope the lifetime of specific options. For example:\n",
              "\n",
              "&gt;&gt;&gt; with pl.Config() as cfg:\n",
              "...     # set verbose for more detailed output within the scope\n",
              "...     cfg.set_verbose(True)  # doctest: +IGNORE_RESULT\n",
              "&gt;&gt;&gt; # scope exit - no longer in verbose mode\n",
              "\n",
              "This can also be written more compactly as:\n",
              "\n",
              "&gt;&gt;&gt; with pl.Config(verbose=True):\n",
              "...     pass\n",
              "\n",
              "(The compact format is available for all `Config` methods that take a single value).\n",
              "\n",
              "Alternatively, you can use as a decorator in order to scope the duration of the\n",
              "selected options to a specific function:\n",
              "\n",
              "&gt;&gt;&gt; @pl.Config(verbose=True)\n",
              "... def test():\n",
              "...     pass</pre>\n",
              "      <script>\n",
              "      if (google.colab.kernel.accessAllowed && google.colab.files && google.colab.files.view) {\n",
              "        for (const element of document.querySelectorAll('.filepath')) {\n",
              "          element.style.display = 'block'\n",
              "          element.onclick = (event) => {\n",
              "            event.preventDefault();\n",
              "            event.stopPropagation();\n",
              "            google.colab.files.view(element.textContent, 145);\n",
              "          };\n",
              "        }\n",
              "      }\n",
              "      for (const element of document.querySelectorAll('.function-repr-contents')) {\n",
              "        element.onclick = (event) => {\n",
              "          event.preventDefault();\n",
              "          event.stopPropagation();\n",
              "          element.classList.toggle('function-repr-contents-collapsed');\n",
              "        };\n",
              "      }\n",
              "      </script>\n",
              "      </div>"
            ]
          },
          "metadata": {},
          "execution_count": 65
        }
      ]
    },
    {
      "cell_type": "markdown",
      "source": [
        "## Show parts of corpus"
      ],
      "metadata": {
        "id": "huCGv2yVCoOT"
      }
    },
    {
      "cell_type": "code",
      "source": [
        "paragraphs_df.head(10)"
      ],
      "metadata": {
        "colab": {
          "base_uri": "https://localhost:8080/",
          "height": 1000
        },
        "id": "rGdFSLTj-P7d",
        "outputId": "162e6fed-6329-49a5-f2ad-39a90657f4e3"
      },
      "execution_count": 66,
      "outputs": [
        {
          "output_type": "execute_result",
          "data": {
            "text/plain": [
              "shape: (10, 2)\n",
              "┌───────┬──────────────────────────────────────────────────────────────────────────────────┐\n",
              "│ index ┆ text                                                                             │\n",
              "│ ---   ┆ ---                                                                              │\n",
              "│ i64   ┆ str                                                                              │\n",
              "╞═══════╪══════════════════════════════════════════════════════════════════════════════════╡\n",
              "│ 0     ┆ ﻿The Project Gutenberg eBook of Tarzan, lord of the jungle\n",
              "                       │\n",
              "│       ┆     \n",
              "                                                                            │\n",
              "│       ┆ This ebook is for the use of anyon…                                              │\n",
              "│ 1     ┆ Title: Tarzan, lord of the jungle                                                │\n",
              "│ 2     ┆ \n",
              "                                                                                │\n",
              "│       ┆ Author: Edgar Rice Burroughs                                                     │\n",
              "│ 3     ┆ Release date: February 12, 2024 [eBook #72938]                                   │\n",
              "│ 4     ┆ Language: English                                                                │\n",
              "│ 5     ┆ Original publication: New York, NY: Grosset & Dunlap, Publishers, 1928           │\n",
              "│ 6     ┆ Credits: Greg Weeks, Mary Meehan and the Online Distributed Proofreading Team at │\n",
              "│       ┆ http://www.pgdp.net                                                              │\n",
              "│ 7     ┆ \n",
              "                                                                                │\n",
              "│       ┆ *** START OF THE PROJECT GUTENBERG EBOOK TARZAN, LORD OF THE JUNGLE ***          │\n",
              "│ 8     ┆                                                                                  │\n",
              "│ 9     ┆                                                                                  │\n",
              "└───────┴──────────────────────────────────────────────────────────────────────────────────┘"
            ],
            "text/html": [
              "<div><style>\n",
              ".dataframe > thead > tr,\n",
              ".dataframe > tbody > tr {\n",
              "  text-align: right;\n",
              "  white-space: pre-wrap;\n",
              "}\n",
              "</style>\n",
              "<small>shape: (10, 2)</small><table border=\"1\" class=\"dataframe\"><thead><tr><th>index</th><th>text</th></tr><tr><td>i64</td><td>str</td></tr></thead><tbody><tr><td>0</td><td>&quot;﻿The Project Gutenberg eBook of Tarzan, lord of the jungle\r\n",
              "&nbsp;&nbsp;&nbsp;&nbsp;\r\n",
              "This ebook is for the use of anyon…</td></tr><tr><td>1</td><td>&quot;Title: Tarzan, lord of the jungle&quot;</td></tr><tr><td>2</td><td>&quot;\r\n",
              "Author: Edgar Rice Burroughs&quot;</td></tr><tr><td>3</td><td>&quot;Release date: February 12, 2024 [eBook #72938]&quot;</td></tr><tr><td>4</td><td>&quot;Language: English&quot;</td></tr><tr><td>5</td><td>&quot;Original publication: New York, NY: Grosset &amp; Dunlap, Publishers, 1928&quot;</td></tr><tr><td>6</td><td>&quot;Credits: Greg Weeks, Mary Meehan and the Online Distributed Proofreading Team at http://www.pgdp.net&quot;</td></tr><tr><td>7</td><td>&quot;\r\n",
              "*** START OF THE PROJECT GUTENBERG EBOOK TARZAN, LORD OF THE JUNGLE ***&quot;</td></tr><tr><td>8</td><td>&quot;&quot;</td></tr><tr><td>9</td><td>&quot;&quot;</td></tr></tbody></table></div>"
            ]
          },
          "metadata": {},
          "execution_count": 66
        }
      ]
    },
    {
      "cell_type": "markdown",
      "source": [
        "# Step 4: Preprocessing"
      ],
      "metadata": {
        "id": "FDFS02z0Czqa"
      }
    },
    {
      "cell_type": "markdown",
      "source": [
        "## Clear some rows"
      ],
      "metadata": {
        "id": "PdDwdZxSDCgR"
      }
    },
    {
      "cell_type": "code",
      "source": [
        "indices_to_remove = list(range(0, 50))\n",
        "\n",
        "paragraphs_filtered_df = paragraphs_df.filter(\n",
        "    ~pl.col(\"index\").is_in(indices_to_remove)\n",
        ")\n",
        "\n",
        "paragraphs_filtered_df = paragraphs_filtered_df.with_row_index(\"new_index\").drop(\"index\")"
      ],
      "metadata": {
        "id": "HQzViKJCC2ic"
      },
      "execution_count": 67,
      "outputs": []
    },
    {
      "cell_type": "code",
      "source": [
        "paragraphs_filtered_df.head(10)"
      ],
      "metadata": {
        "colab": {
          "base_uri": "https://localhost:8080/",
          "height": 1000
        },
        "id": "3X3oLQPaErEg",
        "outputId": "5d87dc82-a3d5-4b7f-da02-3e9e4e388b9a"
      },
      "execution_count": 68,
      "outputs": [
        {
          "output_type": "execute_result",
          "data": {
            "text/plain": [
              "shape: (10, 2)\n",
              "┌───────────┬──────────────────────────────────────────────────────────────────────────┐\n",
              "│ new_index ┆ text                                                                     │\n",
              "│ ---       ┆ ---                                                                      │\n",
              "│ u32       ┆ str                                                                      │\n",
              "╞═══════════╪══════════════════════════════════════════════════════════════════════════╡\n",
              "│ 0         ┆ \n",
              "                                                                        │\n",
              "│           ┆ His great bulk swaying to and fro as he threw his weight first upon\n",
              "     │\n",
              "│           ┆ one side and then upon the ot…                                           │\n",
              "│ 1         ┆ In peace he had lived with Dango the hyena, Sheeta the leopard and Numa\n",
              " │\n",
              "│           ┆ the lion. Man alone had mad…                                             │\n",
              "│ 2         ┆ Always during the long hundred years of his life, Tantor had known\n",
              "      │\n",
              "│           ┆ man. There had been black men, a…                                        │\n",
              "│ 3         ┆ Tantor shared this caution with his fellows and avoided men--especially\n",
              " │\n",
              "│           ┆ white men; and so had there…                                             │\n",
              "│ 4         ┆ In the forest Fahd and Motlog, of the tribe el-Harb, hunted north from\n",
              "  │\n",
              "│           ┆ the menzil of Sheik Ibn Jad …                                            │\n",
              "│ 5         ┆ Fejjuan, as his comrades, thought of fresh meat, but also he thought\n",
              "    │\n",
              "│           ┆ of el-Habash, the land from wh…                                          │\n",
              "│ 6         ┆ Two marches to the north, in the southern extremity of Abyssinia, stood\n",
              " │\n",
              "│           ┆ the round dwelling of the f…                                             │\n",
              "│ 7         ┆ The leaves of the forest drowsed in the heat above the heads of the\n",
              "     │\n",
              "│           ┆ hunters. Beneath the drowsing l…                                         │\n",
              "│ 8         ┆ Fejjuan, the Galla slave, halted in his tracks, stopping those behind\n",
              "   │\n",
              "│           ┆ him by the silent mandate of …                                           │\n",
              "│ 9         ┆ As Tantor surged forward at the sound of the report Tarzan started to\n",
              "   │\n",
              "│           ┆ spring to an upright position…                                           │\n",
              "└───────────┴──────────────────────────────────────────────────────────────────────────┘"
            ],
            "text/html": [
              "<div><style>\n",
              ".dataframe > thead > tr,\n",
              ".dataframe > tbody > tr {\n",
              "  text-align: right;\n",
              "  white-space: pre-wrap;\n",
              "}\n",
              "</style>\n",
              "<small>shape: (10, 2)</small><table border=\"1\" class=\"dataframe\"><thead><tr><th>new_index</th><th>text</th></tr><tr><td>u32</td><td>str</td></tr></thead><tbody><tr><td>0</td><td>&quot;\r\n",
              "His great bulk swaying to and fro as he threw his weight first upon\r\n",
              "one side and then upon the ot…</td></tr><tr><td>1</td><td>&quot;In peace he had lived with Dango the hyena, Sheeta the leopard and Numa\r\n",
              "the lion. Man alone had mad…</td></tr><tr><td>2</td><td>&quot;Always during the long hundred years of his life, Tantor had known\r\n",
              "man. There had been black men, a…</td></tr><tr><td>3</td><td>&quot;Tantor shared this caution with his fellows and avoided men--especially\r\n",
              "white men; and so had there…</td></tr><tr><td>4</td><td>&quot;In the forest Fahd and Motlog, of the tribe el-Harb, hunted north from\r\n",
              "the menzil of Sheik Ibn Jad …</td></tr><tr><td>5</td><td>&quot;Fejjuan, as his comrades, thought of fresh meat, but also he thought\r\n",
              "of el-Habash, the land from wh…</td></tr><tr><td>6</td><td>&quot;Two marches to the north, in the southern extremity of Abyssinia, stood\r\n",
              "the round dwelling of the f…</td></tr><tr><td>7</td><td>&quot;The leaves of the forest drowsed in the heat above the heads of the\r\n",
              "hunters. Beneath the drowsing l…</td></tr><tr><td>8</td><td>&quot;Fejjuan, the Galla slave, halted in his tracks, stopping those behind\r\n",
              "him by the silent mandate of …</td></tr><tr><td>9</td><td>&quot;As Tantor surged forward at the sound of the report Tarzan started to\r\n",
              "spring to an upright position…</td></tr></tbody></table></div>"
            ]
          },
          "metadata": {},
          "execution_count": 68
        }
      ]
    },
    {
      "cell_type": "markdown",
      "source": [
        "# Step 5: N-gram Calculation"
      ],
      "metadata": {
        "id": "I0RrBzKUEUFx"
      }
    },
    {
      "cell_type": "code",
      "source": [
        "def N_gram(df: pl.DataFrame, n: int) -> pl.DataFrame:\n",
        "    def tokenize(text):\n",
        "        return text.lower().split()\n",
        "\n",
        "    def generate_ngrams(tokens, n):\n",
        "        return [tuple(tokens[i:i+n]) for i in range(len(tokens)-n+1)]\n",
        "\n",
        "    ngram_counter = Counter()\n",
        "    for row in df.iter_rows(named=True):\n",
        "        text = row[\"text\"]\n",
        "        tokens = tokenize(text)\n",
        "        ngrams = generate_ngrams(tokens, n)\n",
        "        ngram_counter.update(ngrams)\n",
        "\n",
        "    ngram_data = [\n",
        "        {\"index\": i, \"words\": list(ngram), \"count\": count}\n",
        "        for i, (ngram, count) in enumerate(ngram_counter.items())\n",
        "    ]\n",
        "\n",
        "    return pl.DataFrame(ngram_data)"
      ],
      "metadata": {
        "id": "VU-CtwQ5EJHq"
      },
      "execution_count": 69,
      "outputs": []
    },
    {
      "cell_type": "code",
      "source": [
        "unigram_df = N_gram(paragraphs_filtered_df, n=1)\n",
        "bigram_df = N_gram(paragraphs_filtered_df, n=2)\n",
        "trigram_df = N_gram(paragraphs_filtered_df, n=3)\n",
        "tetragram_df = N_gram(paragraphs_filtered_df, n=4)\n",
        "pentagram_df = N_gram(paragraphs_filtered_df, n=5)"
      ],
      "metadata": {
        "id": "B4Ub1u2mFjAZ"
      },
      "execution_count": 70,
      "outputs": []
    },
    {
      "cell_type": "code",
      "source": [
        "dfs = [df.drop(\"index\") for df in [unigram_df.head(10), bigram_df.head(10), trigram_df.head(10), tetragram_df.head(10), pentagram_df.head(10)]]\n",
        "dfs_renamed = [df.rename({\"words\": f\"words{i+1}\", \"count\": f\"count{i+1}\"}) for i, df in enumerate(dfs)]\n",
        "\n",
        "combined_df = pl.concat(dfs_renamed, how=\"horizontal\")"
      ],
      "metadata": {
        "id": "7FTf8cbmGVyl"
      },
      "execution_count": 71,
      "outputs": []
    },
    {
      "cell_type": "code",
      "source": [
        "combined_df"
      ],
      "metadata": {
        "colab": {
          "base_uri": "https://localhost:8080/",
          "height": 1000
        },
        "id": "Wqx7K-teMnDt",
        "outputId": "e3e4069d-f449-44bf-f394-6c45c83484b0"
      },
      "execution_count": 72,
      "outputs": [
        {
          "output_type": "execute_result",
          "data": {
            "text/plain": [
              "shape: (10, 10)\n",
              "┌──────────┬────────┬──────────┬────────┬──────────┬────────┬──────────┬────────┬─────────┬────────┐\n",
              "│ words1   ┆ count1 ┆ words2   ┆ count2 ┆ words3   ┆ count3 ┆ words4   ┆ count4 ┆ words5  ┆ count5 │\n",
              "│ ---      ┆ ---    ┆ ---      ┆ ---    ┆ ---      ┆ ---    ┆ ---      ┆ ---    ┆ ---     ┆ ---    │\n",
              "│ list[str ┆ i64    ┆ list[str ┆ i64    ┆ list[str ┆ i64    ┆ list[str ┆ i64    ┆ list[st ┆ i64    │\n",
              "│ ]        ┆        ┆ ]        ┆        ┆ ]        ┆        ┆ ]        ┆        ┆ r]      ┆        │\n",
              "╞══════════╪════════╪══════════╪════════╪══════════╪════════╪══════════╪════════╪═════════╪════════╡\n",
              "│ [\"his\"]  ┆ 1058   ┆ [\"his\",  ┆ 11     ┆ [\"his\",  ┆ 1      ┆ [\"his\",  ┆ 1      ┆ [\"his\", ┆ 1      │\n",
              "│          ┆        ┆ \"great\"] ┆        ┆ \"great\", ┆        ┆ \"great\", ┆        ┆ \"great\" ┆        │\n",
              "│          ┆        ┆          ┆        ┆ \"bulk\"]  ┆        ┆ \"bulk\",  ┆        ┆ ,       ┆        │\n",
              "│          ┆        ┆          ┆        ┆          ┆        ┆ \"swaying ┆        ┆ \"bulk\", ┆        │\n",
              "│          ┆        ┆          ┆        ┆          ┆        ┆ \"]       ┆        ┆ \"swayin ┆        │\n",
              "│          ┆        ┆          ┆        ┆          ┆        ┆          ┆        ┆ g\",     ┆        │\n",
              "│          ┆        ┆          ┆        ┆          ┆        ┆          ┆        ┆ \"to\"]   ┆        │\n",
              "│ [\"great\" ┆ 194    ┆ [\"great\" ┆ 1      ┆ [\"great\" ┆ 1      ┆ [\"great\" ┆ 1      ┆ [\"great ┆ 1      │\n",
              "│ ]        ┆        ┆ ,        ┆        ┆ ,        ┆        ┆ ,        ┆        ┆ \",      ┆        │\n",
              "│          ┆        ┆ \"bulk\"]  ┆        ┆ \"bulk\",  ┆        ┆ \"bulk\",  ┆        ┆ \"bulk\", ┆        │\n",
              "│          ┆        ┆          ┆        ┆ \"swaying ┆        ┆ \"swaying ┆        ┆ \"swayin ┆        │\n",
              "│          ┆        ┆          ┆        ┆ \"]       ┆        ┆ \", \"to\"] ┆        ┆ g\",     ┆        │\n",
              "│          ┆        ┆          ┆        ┆          ┆        ┆          ┆        ┆ \"to\",   ┆        │\n",
              "│          ┆        ┆          ┆        ┆          ┆        ┆          ┆        ┆ \"and\"]  ┆        │\n",
              "│ [\"bulk\"] ┆ 4      ┆ [\"bulk\", ┆ 1      ┆ [\"bulk\", ┆ 1      ┆ [\"bulk\", ┆ 1      ┆ [\"bulk\" ┆ 1      │\n",
              "│          ┆        ┆ \"swaying ┆        ┆ \"swaying ┆        ┆ \"swaying ┆        ┆ , \"sway ┆        │\n",
              "│          ┆        ┆ \"]       ┆        ┆ \", \"to\"] ┆        ┆ \", \"to\", ┆        ┆ ing\",   ┆        │\n",
              "│          ┆        ┆          ┆        ┆          ┆        ┆ \"and\"]   ┆        ┆ \"to\",   ┆        │\n",
              "│          ┆        ┆          ┆        ┆          ┆        ┆          ┆        ┆ \"and\",  ┆        │\n",
              "│          ┆        ┆          ┆        ┆          ┆        ┆          ┆        ┆ \"fro\"]  ┆        │\n",
              "│ [\"swayin ┆ 6      ┆ [\"swayin ┆ 1      ┆ [\"swayin ┆ 1      ┆ [\"swayin ┆ 1      ┆ [\"swayi ┆ 1      │\n",
              "│ g\"]      ┆        ┆ g\",      ┆        ┆ g\",      ┆        ┆ g\",      ┆        ┆ ng\",    ┆        │\n",
              "│          ┆        ┆ \"to\"]    ┆        ┆ \"to\",    ┆        ┆ \"to\",    ┆        ┆ \"to\",   ┆        │\n",
              "│          ┆        ┆          ┆        ┆ \"and\"]   ┆        ┆ \"and\",   ┆        ┆ \"and\",  ┆        │\n",
              "│          ┆        ┆          ┆        ┆          ┆        ┆ \"fro\"]   ┆        ┆ \"fro\",  ┆        │\n",
              "│          ┆        ┆          ┆        ┆          ┆        ┆          ┆        ┆ \"as\"]   ┆        │\n",
              "│ [\"to\"]   ┆ 1604   ┆ [\"to\",   ┆ 4      ┆ [\"to\",   ┆ 1      ┆ [\"to\",   ┆ 1      ┆ [\"to\",  ┆ 1      │\n",
              "│          ┆        ┆ \"and\"]   ┆        ┆ \"and\",   ┆        ┆ \"and\",   ┆        ┆ \"and\",  ┆        │\n",
              "│          ┆        ┆          ┆        ┆ \"fro\"]   ┆        ┆ \"fro\",   ┆        ┆ \"fro\",  ┆        │\n",
              "│          ┆        ┆          ┆        ┆          ┆        ┆ \"as\"]    ┆        ┆ \"as\",   ┆        │\n",
              "│          ┆        ┆          ┆        ┆          ┆        ┆          ┆        ┆ \"he\"]   ┆        │\n",
              "│ [\"and\"]  ┆ 2331   ┆ [\"and\",  ┆ 1      ┆ [\"and\",  ┆ 1      ┆ [\"and\",  ┆ 1      ┆ [\"and\", ┆ 1      │\n",
              "│          ┆        ┆ \"fro\"]   ┆        ┆ \"fro\",   ┆        ┆ \"fro\",   ┆        ┆ \"fro\",  ┆        │\n",
              "│          ┆        ┆          ┆        ┆ \"as\"]    ┆        ┆ \"as\",    ┆        ┆ \"as\",   ┆        │\n",
              "│          ┆        ┆          ┆        ┆          ┆        ┆ \"he\"]    ┆        ┆ \"he\",   ┆        │\n",
              "│          ┆        ┆          ┆        ┆          ┆        ┆          ┆        ┆ \"threw\" ┆        │\n",
              "│          ┆        ┆          ┆        ┆          ┆        ┆          ┆        ┆ ]       ┆        │\n",
              "│ [\"fro\"]  ┆ 1      ┆ [\"fro\",  ┆ 1      ┆ [\"fro\",  ┆ 1      ┆ [\"fro\",  ┆ 1      ┆ [\"fro\", ┆ 1      │\n",
              "│          ┆        ┆ \"as\"]    ┆        ┆ \"as\",    ┆        ┆ \"as\",    ┆        ┆ \"as\",   ┆        │\n",
              "│          ┆        ┆          ┆        ┆ \"he\"]    ┆        ┆ \"he\",    ┆        ┆ \"he\",   ┆        │\n",
              "│          ┆        ┆          ┆        ┆          ┆        ┆ \"threw\"] ┆        ┆ \"threw\" ┆        │\n",
              "│          ┆        ┆          ┆        ┆          ┆        ┆          ┆        ┆ ,       ┆        │\n",
              "│          ┆        ┆          ┆        ┆          ┆        ┆          ┆        ┆ \"his\"]  ┆        │\n",
              "│ [\"as\"]   ┆ 474    ┆ [\"as\",   ┆ 85     ┆ [\"as\",   ┆ 1      ┆ [\"as\",   ┆ 1      ┆ [\"as\",  ┆ 1      │\n",
              "│          ┆        ┆ \"he\"]    ┆        ┆ \"he\",    ┆        ┆ \"he\",    ┆        ┆ \"he\",   ┆        │\n",
              "│          ┆        ┆          ┆        ┆ \"threw\"] ┆        ┆ \"threw\", ┆        ┆ \"threw\" ┆        │\n",
              "│          ┆        ┆          ┆        ┆          ┆        ┆ \"his\"]   ┆        ┆ ,       ┆        │\n",
              "│          ┆        ┆          ┆        ┆          ┆        ┆          ┆        ┆ \"his\",  ┆        │\n",
              "│          ┆        ┆          ┆        ┆          ┆        ┆          ┆        ┆ \"weight ┆        │\n",
              "│          ┆        ┆          ┆        ┆          ┆        ┆          ┆        ┆ \"]      ┆        │\n",
              "│ [\"he\"]   ┆ 1432   ┆ [\"he\",   ┆ 2      ┆ [\"he\",   ┆ 1      ┆ [\"he\",   ┆ 1      ┆ [\"he\",  ┆ 1      │\n",
              "│          ┆        ┆ \"threw\"] ┆        ┆ \"threw\", ┆        ┆ \"threw\", ┆        ┆ \"threw\" ┆        │\n",
              "│          ┆        ┆          ┆        ┆ \"his\"]   ┆        ┆ \"his\",   ┆        ┆ ,       ┆        │\n",
              "│          ┆        ┆          ┆        ┆          ┆        ┆ \"weight\" ┆        ┆ \"his\",  ┆        │\n",
              "│          ┆        ┆          ┆        ┆          ┆        ┆ ]        ┆        ┆ \"weight ┆        │\n",
              "│          ┆        ┆          ┆        ┆          ┆        ┆          ┆        ┆ \", \"fir ┆        │\n",
              "│          ┆        ┆          ┆        ┆          ┆        ┆          ┆        ┆ st\"]    ┆        │\n",
              "│ [\"threw\" ┆ 10     ┆ [\"threw\" ┆ 2      ┆ [\"threw\" ┆ 1      ┆ [\"threw\" ┆ 1      ┆ [\"threw ┆ 1      │\n",
              "│ ]        ┆        ┆ , \"his\"] ┆        ┆ , \"his\", ┆        ┆ , \"his\", ┆        ┆ \",      ┆        │\n",
              "│          ┆        ┆          ┆        ┆ \"weight\" ┆        ┆ \"weight\" ┆        ┆ \"his\",  ┆        │\n",
              "│          ┆        ┆          ┆        ┆ ]        ┆        ┆ ,        ┆        ┆ \"weight ┆        │\n",
              "│          ┆        ┆          ┆        ┆          ┆        ┆ \"first\"] ┆        ┆ \", \"fir ┆        │\n",
              "│          ┆        ┆          ┆        ┆          ┆        ┆          ┆        ┆ st\",    ┆        │\n",
              "│          ┆        ┆          ┆        ┆          ┆        ┆          ┆        ┆ \"upon\"] ┆        │\n",
              "└──────────┴────────┴──────────┴────────┴──────────┴────────┴──────────┴────────┴─────────┴────────┘"
            ],
            "text/html": [
              "<div><style>\n",
              ".dataframe > thead > tr,\n",
              ".dataframe > tbody > tr {\n",
              "  text-align: right;\n",
              "  white-space: pre-wrap;\n",
              "}\n",
              "</style>\n",
              "<small>shape: (10, 10)</small><table border=\"1\" class=\"dataframe\"><thead><tr><th>words1</th><th>count1</th><th>words2</th><th>count2</th><th>words3</th><th>count3</th><th>words4</th><th>count4</th><th>words5</th><th>count5</th></tr><tr><td>list[str]</td><td>i64</td><td>list[str]</td><td>i64</td><td>list[str]</td><td>i64</td><td>list[str]</td><td>i64</td><td>list[str]</td><td>i64</td></tr></thead><tbody><tr><td>[&quot;his&quot;]</td><td>1058</td><td>[&quot;his&quot;, &quot;great&quot;]</td><td>11</td><td>[&quot;his&quot;, &quot;great&quot;, &quot;bulk&quot;]</td><td>1</td><td>[&quot;his&quot;, &quot;great&quot;, &quot;bulk&quot;, &quot;swaying&quot;]</td><td>1</td><td>[&quot;his&quot;, &quot;great&quot;, &quot;bulk&quot;, &quot;swaying&quot;, &quot;to&quot;]</td><td>1</td></tr><tr><td>[&quot;great&quot;]</td><td>194</td><td>[&quot;great&quot;, &quot;bulk&quot;]</td><td>1</td><td>[&quot;great&quot;, &quot;bulk&quot;, &quot;swaying&quot;]</td><td>1</td><td>[&quot;great&quot;, &quot;bulk&quot;, &quot;swaying&quot;, &quot;to&quot;]</td><td>1</td><td>[&quot;great&quot;, &quot;bulk&quot;, &quot;swaying&quot;, &quot;to&quot;, &quot;and&quot;]</td><td>1</td></tr><tr><td>[&quot;bulk&quot;]</td><td>4</td><td>[&quot;bulk&quot;, &quot;swaying&quot;]</td><td>1</td><td>[&quot;bulk&quot;, &quot;swaying&quot;, &quot;to&quot;]</td><td>1</td><td>[&quot;bulk&quot;, &quot;swaying&quot;, &quot;to&quot;, &quot;and&quot;]</td><td>1</td><td>[&quot;bulk&quot;, &quot;swaying&quot;, &quot;to&quot;, &quot;and&quot;, &quot;fro&quot;]</td><td>1</td></tr><tr><td>[&quot;swaying&quot;]</td><td>6</td><td>[&quot;swaying&quot;, &quot;to&quot;]</td><td>1</td><td>[&quot;swaying&quot;, &quot;to&quot;, &quot;and&quot;]</td><td>1</td><td>[&quot;swaying&quot;, &quot;to&quot;, &quot;and&quot;, &quot;fro&quot;]</td><td>1</td><td>[&quot;swaying&quot;, &quot;to&quot;, &quot;and&quot;, &quot;fro&quot;, &quot;as&quot;]</td><td>1</td></tr><tr><td>[&quot;to&quot;]</td><td>1604</td><td>[&quot;to&quot;, &quot;and&quot;]</td><td>4</td><td>[&quot;to&quot;, &quot;and&quot;, &quot;fro&quot;]</td><td>1</td><td>[&quot;to&quot;, &quot;and&quot;, &quot;fro&quot;, &quot;as&quot;]</td><td>1</td><td>[&quot;to&quot;, &quot;and&quot;, &quot;fro&quot;, &quot;as&quot;, &quot;he&quot;]</td><td>1</td></tr><tr><td>[&quot;and&quot;]</td><td>2331</td><td>[&quot;and&quot;, &quot;fro&quot;]</td><td>1</td><td>[&quot;and&quot;, &quot;fro&quot;, &quot;as&quot;]</td><td>1</td><td>[&quot;and&quot;, &quot;fro&quot;, &quot;as&quot;, &quot;he&quot;]</td><td>1</td><td>[&quot;and&quot;, &quot;fro&quot;, &quot;as&quot;, &quot;he&quot;, &quot;threw&quot;]</td><td>1</td></tr><tr><td>[&quot;fro&quot;]</td><td>1</td><td>[&quot;fro&quot;, &quot;as&quot;]</td><td>1</td><td>[&quot;fro&quot;, &quot;as&quot;, &quot;he&quot;]</td><td>1</td><td>[&quot;fro&quot;, &quot;as&quot;, &quot;he&quot;, &quot;threw&quot;]</td><td>1</td><td>[&quot;fro&quot;, &quot;as&quot;, &quot;he&quot;, &quot;threw&quot;, &quot;his&quot;]</td><td>1</td></tr><tr><td>[&quot;as&quot;]</td><td>474</td><td>[&quot;as&quot;, &quot;he&quot;]</td><td>85</td><td>[&quot;as&quot;, &quot;he&quot;, &quot;threw&quot;]</td><td>1</td><td>[&quot;as&quot;, &quot;he&quot;, &quot;threw&quot;, &quot;his&quot;]</td><td>1</td><td>[&quot;as&quot;, &quot;he&quot;, &quot;threw&quot;, &quot;his&quot;, &quot;weight&quot;]</td><td>1</td></tr><tr><td>[&quot;he&quot;]</td><td>1432</td><td>[&quot;he&quot;, &quot;threw&quot;]</td><td>2</td><td>[&quot;he&quot;, &quot;threw&quot;, &quot;his&quot;]</td><td>1</td><td>[&quot;he&quot;, &quot;threw&quot;, &quot;his&quot;, &quot;weight&quot;]</td><td>1</td><td>[&quot;he&quot;, &quot;threw&quot;, &quot;his&quot;, &quot;weight&quot;, &quot;first&quot;]</td><td>1</td></tr><tr><td>[&quot;threw&quot;]</td><td>10</td><td>[&quot;threw&quot;, &quot;his&quot;]</td><td>2</td><td>[&quot;threw&quot;, &quot;his&quot;, &quot;weight&quot;]</td><td>1</td><td>[&quot;threw&quot;, &quot;his&quot;, &quot;weight&quot;, &quot;first&quot;]</td><td>1</td><td>[&quot;threw&quot;, &quot;his&quot;, &quot;weight&quot;, &quot;first&quot;, &quot;upon&quot;]</td><td>1</td></tr></tbody></table></div>"
            ]
          },
          "metadata": {},
          "execution_count": 72
        }
      ]
    },
    {
      "cell_type": "markdown",
      "source": [
        "# Step 6: N-gram Model"
      ],
      "metadata": {
        "id": "fikInyRIIuOr"
      }
    },
    {
      "cell_type": "code",
      "source": [
        "def n_gram_model(paragraphs: pl.DataFrame, n: int, word_list: list, predicted_num: int) -> list:\n",
        "    ngrams = []\n",
        "    for i in range(1, n + 1):\n",
        "        ngrams.append(N_gram(paragraphs, i))\n",
        "\n",
        "    predicted_words = word_list.copy()\n",
        "    for index in range(predicted_num):\n",
        "        context_size = min(n - 1, len(predicted_words))\n",
        "        context = tuple(predicted_words[-context_size:]) if context_size > 0 else tuple()\n",
        "\n",
        "        next_word = None\n",
        "        for i in range(context_size, -1, -1):\n",
        "            if i == 0:\n",
        "                ngram_df = ngrams[0]\n",
        "                next_word = ngram_df.sort(\"count\", descending=True).row(0)[1][0]\n",
        "                break\n",
        "            else:\n",
        "                ngram_df = ngrams[i]\n",
        "                filtered_df = ngram_df.filter(\n",
        "                    pl.col(\"words\").list.slice(0, i) == list(context[-i:])\n",
        "                )\n",
        "                if len(filtered_df) > 0:\n",
        "                    next_word = filtered_df.sort(\"count\", descending=True).row(0)[1][-1]\n",
        "                    break\n",
        "\n",
        "        if next_word is None:\n",
        "            break\n",
        "\n",
        "        predicted_words.append(next_word)\n",
        "\n",
        "    return predicted_words"
      ],
      "metadata": {
        "id": "Q3yREOuLTrYM"
      },
      "execution_count": 73,
      "outputs": []
    },
    {
      "cell_type": "code",
      "source": [
        "word_list = [\"Knowing\", \"weⅼⅼ\", \"the\", \"winⅾings\", \"of\", \"the\", \"traiⅼ\", \"he\"]\n",
        "word_list2 = [\"For\", \"haⅼf\", \"a\", \"ⅾay\", \"he\", \"ⅼoⅼⅼeⅾ\", \"on\", \"the\", \"huge\", \"baⅽk\", \"and\"]\n",
        "\n",
        "predicted_num = 10\n",
        "\n",
        "for index in range(1, 6):\n",
        "    predicted_sentence1 = n_gram_model(paragraphs_filtered_df, index, word_list, predicted_num)\n",
        "    print(str (index) + \" gram Predicted Sentence:\", \" \".join(predicted_sentence1))\n",
        "\n",
        "print(\"--------------------------------------------------------------------------------------------------------\")\n",
        "\n",
        "for index in range(1, 6):\n",
        "    predicted_sentence2 = n_gram_model(paragraphs_filtered_df, index, word_list2, predicted_num)\n",
        "    print(str (index) + \" gram Predicted Sentence:\", \" \".join(predicted_sentence2))"
      ],
      "metadata": {
        "colab": {
          "base_uri": "https://localhost:8080/"
        },
        "id": "OSFr6wckl2MI",
        "outputId": "5d5138bd-8d54-4654-de5d-a2fce340d38c"
      },
      "execution_count": 74,
      "outputs": [
        {
          "output_type": "stream",
          "name": "stdout",
          "text": [
            "1 gram Predicted Sentence: Knowing weⅼⅼ the winⅾings of the traiⅼ he the the the the the the the the the the\n",
            "2 gram Predicted Sentence: Knowing weⅼⅼ the winⅾings of the traiⅼ he had been a great tourney and the great tourney and\n",
            "3 gram Predicted Sentence: Knowing weⅼⅼ the winⅾings of the traiⅼ he had been the last of all, the serfs, for under\n",
            "4 gram Predicted Sentence: Knowing weⅼⅼ the winⅾings of the traiⅼ he had been at the head of the column he forged\n",
            "5 gram Predicted Sentence: Knowing weⅼⅼ the winⅾings of the traiⅼ he had been at the head of a faction that was\n",
            "--------------------------------------------------------------------------------------------------------\n",
            "1 gram Predicted Sentence: For haⅼf a ⅾay he ⅼoⅼⅼeⅾ on the huge baⅽk and the the the the the the the the the the\n",
            "2 gram Predicted Sentence: For haⅼf a ⅾay he ⅼoⅼⅼeⅾ on the huge baⅽk and the great tourney and the great tourney and the great\n",
            "3 gram Predicted Sentence: For haⅼf a ⅾay he ⅼoⅼⅼeⅾ on the huge baⅽk and the two beasts were content. the great tourney and was\n",
            "4 gram Predicted Sentence: For haⅼf a ⅾay he ⅼoⅼⅼeⅾ on the huge baⅽk and the two beasts were content. the great tourney and was\n",
            "5 gram Predicted Sentence: For haⅼf a ⅾay he ⅼoⅼⅼeⅾ on the huge baⅽk and the two beasts were content. the great tourney and was\n"
          ]
        }
      ]
    }
  ]
}