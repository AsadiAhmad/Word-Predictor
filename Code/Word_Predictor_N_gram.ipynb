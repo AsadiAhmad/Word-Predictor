{
  "nbformat": 4,
  "nbformat_minor": 0,
  "metadata": {
    "colab": {
      "provenance": [],
      "authorship_tag": "ABX9TyONLxmBKtYWpF08Rglc6nNc",
      "include_colab_link": true
    },
    "kernelspec": {
      "name": "python3",
      "display_name": "Python 3"
    },
    "language_info": {
      "name": "python"
    }
  },
  "cells": [
    {
      "cell_type": "markdown",
      "metadata": {
        "id": "view-in-github",
        "colab_type": "text"
      },
      "source": [
        "<a href=\"https://colab.research.google.com/github/AsadiAhmad/Word-Predictor/blob/main/Code/Word_Predictor_N_gram.ipynb\" target=\"_parent\"><img src=\"https://colab.research.google.com/assets/colab-badge.svg\" alt=\"Open In Colab\"/></a>"
      ]
    },
    {
      "cell_type": "markdown",
      "source": [
        "# Step 1: Import Libraries"
      ],
      "metadata": {
        "id": "8lExBPas26Io"
      }
    },
    {
      "cell_type": "code",
      "execution_count": null,
      "metadata": {
        "id": "g67z2L4dzGxY"
      },
      "outputs": [],
      "source": [
        "import requests"
      ]
    },
    {
      "cell_type": "markdown",
      "source": [
        "# Step 2: Get Corpus"
      ],
      "metadata": {
        "id": "IGItXQ7f28lw"
      }
    },
    {
      "cell_type": "code",
      "source": [
        "train_set_url = \"https://raw.githubusercontent.com/AsadiAhmad/Word-Predictor/refs/heads/main/Corpus/tarzan.txt\"\n"
      ],
      "metadata": {
        "id": "HMoSgVZ33TKV"
      },
      "execution_count": null,
      "outputs": []
    }
  ]
}